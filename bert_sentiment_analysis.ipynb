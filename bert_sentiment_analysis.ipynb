{
  "nbformat": 4,
  "nbformat_minor": 0,
  "metadata": {
    "colab": {
      "name": "bert-sentiment-analysis.ipynb",
      "provenance": [],
      "collapsed_sections": []
    },
    "kernelspec": {
      "name": "python3",
      "display_name": "Python 3"
    },
    "language_info": {
      "name": "python"
    },
    "widgets": {
      "application/vnd.jupyter.widget-state+json": {
        "69abade4f32a4472be6f9138351f3470": {
          "model_module": "@jupyter-widgets/controls",
          "model_name": "HBoxModel",
          "state": {
            "_view_name": "HBoxView",
            "_dom_classes": [],
            "_model_name": "HBoxModel",
            "_view_module": "@jupyter-widgets/controls",
            "_model_module_version": "1.5.0",
            "_view_count": null,
            "_view_module_version": "1.5.0",
            "box_style": "",
            "layout": "IPY_MODEL_acc86d688d0b4d908644a9fd7715f8ef",
            "_model_module": "@jupyter-widgets/controls",
            "children": [
              "IPY_MODEL_9b6f79a0868c452ab516c6d2a635caef",
              "IPY_MODEL_3e42170eaa6b4c73af94d7ef7ab463cc"
            ]
          }
        },
        "acc86d688d0b4d908644a9fd7715f8ef": {
          "model_module": "@jupyter-widgets/base",
          "model_name": "LayoutModel",
          "state": {
            "_view_name": "LayoutView",
            "grid_template_rows": null,
            "right": null,
            "justify_content": null,
            "_view_module": "@jupyter-widgets/base",
            "overflow": null,
            "_model_module_version": "1.2.0",
            "_view_count": null,
            "flex_flow": null,
            "width": null,
            "min_width": null,
            "border": null,
            "align_items": null,
            "bottom": null,
            "_model_module": "@jupyter-widgets/base",
            "top": null,
            "grid_column": null,
            "overflow_y": null,
            "overflow_x": null,
            "grid_auto_flow": null,
            "grid_area": null,
            "grid_template_columns": null,
            "flex": null,
            "_model_name": "LayoutModel",
            "justify_items": null,
            "grid_row": null,
            "max_height": null,
            "align_content": null,
            "visibility": null,
            "align_self": null,
            "height": null,
            "min_height": null,
            "padding": null,
            "grid_auto_rows": null,
            "grid_gap": null,
            "max_width": null,
            "order": null,
            "_view_module_version": "1.2.0",
            "grid_template_areas": null,
            "object_position": null,
            "object_fit": null,
            "grid_auto_columns": null,
            "margin": null,
            "display": null,
            "left": null
          }
        },
        "9b6f79a0868c452ab516c6d2a635caef": {
          "model_module": "@jupyter-widgets/controls",
          "model_name": "FloatProgressModel",
          "state": {
            "_view_name": "ProgressView",
            "style": "IPY_MODEL_549d3633010c41bc80b6a4e0a49d2873",
            "_dom_classes": [],
            "description": "Downloading: 100%",
            "_model_name": "FloatProgressModel",
            "bar_style": "success",
            "max": 570,
            "_view_module": "@jupyter-widgets/controls",
            "_model_module_version": "1.5.0",
            "value": 570,
            "_view_count": null,
            "_view_module_version": "1.5.0",
            "orientation": "horizontal",
            "min": 0,
            "description_tooltip": null,
            "_model_module": "@jupyter-widgets/controls",
            "layout": "IPY_MODEL_1f674cfe6b14435b85627138abadd0a2"
          }
        },
        "3e42170eaa6b4c73af94d7ef7ab463cc": {
          "model_module": "@jupyter-widgets/controls",
          "model_name": "HTMLModel",
          "state": {
            "_view_name": "HTMLView",
            "style": "IPY_MODEL_11cbffb8cfda46b18e9635dce881f9a7",
            "_dom_classes": [],
            "description": "",
            "_model_name": "HTMLModel",
            "placeholder": "​",
            "_view_module": "@jupyter-widgets/controls",
            "_model_module_version": "1.5.0",
            "value": " 570/570 [00:44&lt;00:00, 12.7B/s]",
            "_view_count": null,
            "_view_module_version": "1.5.0",
            "description_tooltip": null,
            "_model_module": "@jupyter-widgets/controls",
            "layout": "IPY_MODEL_949937c7dddc4c95a5e8ca5d5cf7f765"
          }
        },
        "549d3633010c41bc80b6a4e0a49d2873": {
          "model_module": "@jupyter-widgets/controls",
          "model_name": "ProgressStyleModel",
          "state": {
            "_view_name": "StyleView",
            "_model_name": "ProgressStyleModel",
            "description_width": "initial",
            "_view_module": "@jupyter-widgets/base",
            "_model_module_version": "1.5.0",
            "_view_count": null,
            "_view_module_version": "1.2.0",
            "bar_color": null,
            "_model_module": "@jupyter-widgets/controls"
          }
        },
        "1f674cfe6b14435b85627138abadd0a2": {
          "model_module": "@jupyter-widgets/base",
          "model_name": "LayoutModel",
          "state": {
            "_view_name": "LayoutView",
            "grid_template_rows": null,
            "right": null,
            "justify_content": null,
            "_view_module": "@jupyter-widgets/base",
            "overflow": null,
            "_model_module_version": "1.2.0",
            "_view_count": null,
            "flex_flow": null,
            "width": null,
            "min_width": null,
            "border": null,
            "align_items": null,
            "bottom": null,
            "_model_module": "@jupyter-widgets/base",
            "top": null,
            "grid_column": null,
            "overflow_y": null,
            "overflow_x": null,
            "grid_auto_flow": null,
            "grid_area": null,
            "grid_template_columns": null,
            "flex": null,
            "_model_name": "LayoutModel",
            "justify_items": null,
            "grid_row": null,
            "max_height": null,
            "align_content": null,
            "visibility": null,
            "align_self": null,
            "height": null,
            "min_height": null,
            "padding": null,
            "grid_auto_rows": null,
            "grid_gap": null,
            "max_width": null,
            "order": null,
            "_view_module_version": "1.2.0",
            "grid_template_areas": null,
            "object_position": null,
            "object_fit": null,
            "grid_auto_columns": null,
            "margin": null,
            "display": null,
            "left": null
          }
        },
        "11cbffb8cfda46b18e9635dce881f9a7": {
          "model_module": "@jupyter-widgets/controls",
          "model_name": "DescriptionStyleModel",
          "state": {
            "_view_name": "StyleView",
            "_model_name": "DescriptionStyleModel",
            "description_width": "",
            "_view_module": "@jupyter-widgets/base",
            "_model_module_version": "1.5.0",
            "_view_count": null,
            "_view_module_version": "1.2.0",
            "_model_module": "@jupyter-widgets/controls"
          }
        },
        "949937c7dddc4c95a5e8ca5d5cf7f765": {
          "model_module": "@jupyter-widgets/base",
          "model_name": "LayoutModel",
          "state": {
            "_view_name": "LayoutView",
            "grid_template_rows": null,
            "right": null,
            "justify_content": null,
            "_view_module": "@jupyter-widgets/base",
            "overflow": null,
            "_model_module_version": "1.2.0",
            "_view_count": null,
            "flex_flow": null,
            "width": null,
            "min_width": null,
            "border": null,
            "align_items": null,
            "bottom": null,
            "_model_module": "@jupyter-widgets/base",
            "top": null,
            "grid_column": null,
            "overflow_y": null,
            "overflow_x": null,
            "grid_auto_flow": null,
            "grid_area": null,
            "grid_template_columns": null,
            "flex": null,
            "_model_name": "LayoutModel",
            "justify_items": null,
            "grid_row": null,
            "max_height": null,
            "align_content": null,
            "visibility": null,
            "align_self": null,
            "height": null,
            "min_height": null,
            "padding": null,
            "grid_auto_rows": null,
            "grid_gap": null,
            "max_width": null,
            "order": null,
            "_view_module_version": "1.2.0",
            "grid_template_areas": null,
            "object_position": null,
            "object_fit": null,
            "grid_auto_columns": null,
            "margin": null,
            "display": null,
            "left": null
          }
        },
        "9690db77a8b74f2fafc456a538f9ce0a": {
          "model_module": "@jupyter-widgets/controls",
          "model_name": "HBoxModel",
          "state": {
            "_view_name": "HBoxView",
            "_dom_classes": [],
            "_model_name": "HBoxModel",
            "_view_module": "@jupyter-widgets/controls",
            "_model_module_version": "1.5.0",
            "_view_count": null,
            "_view_module_version": "1.5.0",
            "box_style": "",
            "layout": "IPY_MODEL_6382edcaa85d4b53aa6b3dd3d84faca7",
            "_model_module": "@jupyter-widgets/controls",
            "children": [
              "IPY_MODEL_0eae5990b63e47bf9c8b7900aa085fd0",
              "IPY_MODEL_d53589485a024f93b26d42bd12761436"
            ]
          }
        },
        "6382edcaa85d4b53aa6b3dd3d84faca7": {
          "model_module": "@jupyter-widgets/base",
          "model_name": "LayoutModel",
          "state": {
            "_view_name": "LayoutView",
            "grid_template_rows": null,
            "right": null,
            "justify_content": null,
            "_view_module": "@jupyter-widgets/base",
            "overflow": null,
            "_model_module_version": "1.2.0",
            "_view_count": null,
            "flex_flow": null,
            "width": null,
            "min_width": null,
            "border": null,
            "align_items": null,
            "bottom": null,
            "_model_module": "@jupyter-widgets/base",
            "top": null,
            "grid_column": null,
            "overflow_y": null,
            "overflow_x": null,
            "grid_auto_flow": null,
            "grid_area": null,
            "grid_template_columns": null,
            "flex": null,
            "_model_name": "LayoutModel",
            "justify_items": null,
            "grid_row": null,
            "max_height": null,
            "align_content": null,
            "visibility": null,
            "align_self": null,
            "height": null,
            "min_height": null,
            "padding": null,
            "grid_auto_rows": null,
            "grid_gap": null,
            "max_width": null,
            "order": null,
            "_view_module_version": "1.2.0",
            "grid_template_areas": null,
            "object_position": null,
            "object_fit": null,
            "grid_auto_columns": null,
            "margin": null,
            "display": null,
            "left": null
          }
        },
        "0eae5990b63e47bf9c8b7900aa085fd0": {
          "model_module": "@jupyter-widgets/controls",
          "model_name": "FloatProgressModel",
          "state": {
            "_view_name": "ProgressView",
            "style": "IPY_MODEL_750f2245e3fb4050ad8ea7c7653c597e",
            "_dom_classes": [],
            "description": "Downloading: 100%",
            "_model_name": "FloatProgressModel",
            "bar_style": "success",
            "max": 231508,
            "_view_module": "@jupyter-widgets/controls",
            "_model_module_version": "1.5.0",
            "value": 231508,
            "_view_count": null,
            "_view_module_version": "1.5.0",
            "orientation": "horizontal",
            "min": 0,
            "description_tooltip": null,
            "_model_module": "@jupyter-widgets/controls",
            "layout": "IPY_MODEL_145eede66bf841c48bde7e603daca944"
          }
        },
        "d53589485a024f93b26d42bd12761436": {
          "model_module": "@jupyter-widgets/controls",
          "model_name": "HTMLModel",
          "state": {
            "_view_name": "HTMLView",
            "style": "IPY_MODEL_ea35fd4d882c4141b5d0a1ec742e1ff5",
            "_dom_classes": [],
            "description": "",
            "_model_name": "HTMLModel",
            "placeholder": "​",
            "_view_module": "@jupyter-widgets/controls",
            "_model_module_version": "1.5.0",
            "value": " 232k/232k [00:00&lt;00:00, 839kB/s]",
            "_view_count": null,
            "_view_module_version": "1.5.0",
            "description_tooltip": null,
            "_model_module": "@jupyter-widgets/controls",
            "layout": "IPY_MODEL_008950fcbc914082924c4f913b5889ed"
          }
        },
        "750f2245e3fb4050ad8ea7c7653c597e": {
          "model_module": "@jupyter-widgets/controls",
          "model_name": "ProgressStyleModel",
          "state": {
            "_view_name": "StyleView",
            "_model_name": "ProgressStyleModel",
            "description_width": "initial",
            "_view_module": "@jupyter-widgets/base",
            "_model_module_version": "1.5.0",
            "_view_count": null,
            "_view_module_version": "1.2.0",
            "bar_color": null,
            "_model_module": "@jupyter-widgets/controls"
          }
        },
        "145eede66bf841c48bde7e603daca944": {
          "model_module": "@jupyter-widgets/base",
          "model_name": "LayoutModel",
          "state": {
            "_view_name": "LayoutView",
            "grid_template_rows": null,
            "right": null,
            "justify_content": null,
            "_view_module": "@jupyter-widgets/base",
            "overflow": null,
            "_model_module_version": "1.2.0",
            "_view_count": null,
            "flex_flow": null,
            "width": null,
            "min_width": null,
            "border": null,
            "align_items": null,
            "bottom": null,
            "_model_module": "@jupyter-widgets/base",
            "top": null,
            "grid_column": null,
            "overflow_y": null,
            "overflow_x": null,
            "grid_auto_flow": null,
            "grid_area": null,
            "grid_template_columns": null,
            "flex": null,
            "_model_name": "LayoutModel",
            "justify_items": null,
            "grid_row": null,
            "max_height": null,
            "align_content": null,
            "visibility": null,
            "align_self": null,
            "height": null,
            "min_height": null,
            "padding": null,
            "grid_auto_rows": null,
            "grid_gap": null,
            "max_width": null,
            "order": null,
            "_view_module_version": "1.2.0",
            "grid_template_areas": null,
            "object_position": null,
            "object_fit": null,
            "grid_auto_columns": null,
            "margin": null,
            "display": null,
            "left": null
          }
        },
        "ea35fd4d882c4141b5d0a1ec742e1ff5": {
          "model_module": "@jupyter-widgets/controls",
          "model_name": "DescriptionStyleModel",
          "state": {
            "_view_name": "StyleView",
            "_model_name": "DescriptionStyleModel",
            "description_width": "",
            "_view_module": "@jupyter-widgets/base",
            "_model_module_version": "1.5.0",
            "_view_count": null,
            "_view_module_version": "1.2.0",
            "_model_module": "@jupyter-widgets/controls"
          }
        },
        "008950fcbc914082924c4f913b5889ed": {
          "model_module": "@jupyter-widgets/base",
          "model_name": "LayoutModel",
          "state": {
            "_view_name": "LayoutView",
            "grid_template_rows": null,
            "right": null,
            "justify_content": null,
            "_view_module": "@jupyter-widgets/base",
            "overflow": null,
            "_model_module_version": "1.2.0",
            "_view_count": null,
            "flex_flow": null,
            "width": null,
            "min_width": null,
            "border": null,
            "align_items": null,
            "bottom": null,
            "_model_module": "@jupyter-widgets/base",
            "top": null,
            "grid_column": null,
            "overflow_y": null,
            "overflow_x": null,
            "grid_auto_flow": null,
            "grid_area": null,
            "grid_template_columns": null,
            "flex": null,
            "_model_name": "LayoutModel",
            "justify_items": null,
            "grid_row": null,
            "max_height": null,
            "align_content": null,
            "visibility": null,
            "align_self": null,
            "height": null,
            "min_height": null,
            "padding": null,
            "grid_auto_rows": null,
            "grid_gap": null,
            "max_width": null,
            "order": null,
            "_view_module_version": "1.2.0",
            "grid_template_areas": null,
            "object_position": null,
            "object_fit": null,
            "grid_auto_columns": null,
            "margin": null,
            "display": null,
            "left": null
          }
        },
        "b0b92992dace4272a1ed7373e263c16d": {
          "model_module": "@jupyter-widgets/controls",
          "model_name": "HBoxModel",
          "state": {
            "_view_name": "HBoxView",
            "_dom_classes": [],
            "_model_name": "HBoxModel",
            "_view_module": "@jupyter-widgets/controls",
            "_model_module_version": "1.5.0",
            "_view_count": null,
            "_view_module_version": "1.5.0",
            "box_style": "",
            "layout": "IPY_MODEL_cffcbb16af7d4c2c8de889d7798773cd",
            "_model_module": "@jupyter-widgets/controls",
            "children": [
              "IPY_MODEL_c8b7a22cf9ce43fdb37983d71e33e703",
              "IPY_MODEL_fc429b6091334a57ae213ab75b6f801c"
            ]
          }
        },
        "cffcbb16af7d4c2c8de889d7798773cd": {
          "model_module": "@jupyter-widgets/base",
          "model_name": "LayoutModel",
          "state": {
            "_view_name": "LayoutView",
            "grid_template_rows": null,
            "right": null,
            "justify_content": null,
            "_view_module": "@jupyter-widgets/base",
            "overflow": null,
            "_model_module_version": "1.2.0",
            "_view_count": null,
            "flex_flow": null,
            "width": null,
            "min_width": null,
            "border": null,
            "align_items": null,
            "bottom": null,
            "_model_module": "@jupyter-widgets/base",
            "top": null,
            "grid_column": null,
            "overflow_y": null,
            "overflow_x": null,
            "grid_auto_flow": null,
            "grid_area": null,
            "grid_template_columns": null,
            "flex": null,
            "_model_name": "LayoutModel",
            "justify_items": null,
            "grid_row": null,
            "max_height": null,
            "align_content": null,
            "visibility": null,
            "align_self": null,
            "height": null,
            "min_height": null,
            "padding": null,
            "grid_auto_rows": null,
            "grid_gap": null,
            "max_width": null,
            "order": null,
            "_view_module_version": "1.2.0",
            "grid_template_areas": null,
            "object_position": null,
            "object_fit": null,
            "grid_auto_columns": null,
            "margin": null,
            "display": null,
            "left": null
          }
        },
        "c8b7a22cf9ce43fdb37983d71e33e703": {
          "model_module": "@jupyter-widgets/controls",
          "model_name": "FloatProgressModel",
          "state": {
            "_view_name": "ProgressView",
            "style": "IPY_MODEL_b3c98cb1a0a64511aecacb3043b9720b",
            "_dom_classes": [],
            "description": "Downloading: 100%",
            "_model_name": "FloatProgressModel",
            "bar_style": "success",
            "max": 466062,
            "_view_module": "@jupyter-widgets/controls",
            "_model_module_version": "1.5.0",
            "value": 466062,
            "_view_count": null,
            "_view_module_version": "1.5.0",
            "orientation": "horizontal",
            "min": 0,
            "description_tooltip": null,
            "_model_module": "@jupyter-widgets/controls",
            "layout": "IPY_MODEL_da845d6131fa4e93bb8e11200af0c662"
          }
        },
        "fc429b6091334a57ae213ab75b6f801c": {
          "model_module": "@jupyter-widgets/controls",
          "model_name": "HTMLModel",
          "state": {
            "_view_name": "HTMLView",
            "style": "IPY_MODEL_fee10f58bdf2407da37a42fbcc19288d",
            "_dom_classes": [],
            "description": "",
            "_model_name": "HTMLModel",
            "placeholder": "​",
            "_view_module": "@jupyter-widgets/controls",
            "_model_module_version": "1.5.0",
            "value": " 466k/466k [00:00&lt;00:00, 2.63MB/s]",
            "_view_count": null,
            "_view_module_version": "1.5.0",
            "description_tooltip": null,
            "_model_module": "@jupyter-widgets/controls",
            "layout": "IPY_MODEL_3d3d1d2204fc43e9a5929761a837d7c6"
          }
        },
        "b3c98cb1a0a64511aecacb3043b9720b": {
          "model_module": "@jupyter-widgets/controls",
          "model_name": "ProgressStyleModel",
          "state": {
            "_view_name": "StyleView",
            "_model_name": "ProgressStyleModel",
            "description_width": "initial",
            "_view_module": "@jupyter-widgets/base",
            "_model_module_version": "1.5.0",
            "_view_count": null,
            "_view_module_version": "1.2.0",
            "bar_color": null,
            "_model_module": "@jupyter-widgets/controls"
          }
        },
        "da845d6131fa4e93bb8e11200af0c662": {
          "model_module": "@jupyter-widgets/base",
          "model_name": "LayoutModel",
          "state": {
            "_view_name": "LayoutView",
            "grid_template_rows": null,
            "right": null,
            "justify_content": null,
            "_view_module": "@jupyter-widgets/base",
            "overflow": null,
            "_model_module_version": "1.2.0",
            "_view_count": null,
            "flex_flow": null,
            "width": null,
            "min_width": null,
            "border": null,
            "align_items": null,
            "bottom": null,
            "_model_module": "@jupyter-widgets/base",
            "top": null,
            "grid_column": null,
            "overflow_y": null,
            "overflow_x": null,
            "grid_auto_flow": null,
            "grid_area": null,
            "grid_template_columns": null,
            "flex": null,
            "_model_name": "LayoutModel",
            "justify_items": null,
            "grid_row": null,
            "max_height": null,
            "align_content": null,
            "visibility": null,
            "align_self": null,
            "height": null,
            "min_height": null,
            "padding": null,
            "grid_auto_rows": null,
            "grid_gap": null,
            "max_width": null,
            "order": null,
            "_view_module_version": "1.2.0",
            "grid_template_areas": null,
            "object_position": null,
            "object_fit": null,
            "grid_auto_columns": null,
            "margin": null,
            "display": null,
            "left": null
          }
        },
        "fee10f58bdf2407da37a42fbcc19288d": {
          "model_module": "@jupyter-widgets/controls",
          "model_name": "DescriptionStyleModel",
          "state": {
            "_view_name": "StyleView",
            "_model_name": "DescriptionStyleModel",
            "description_width": "",
            "_view_module": "@jupyter-widgets/base",
            "_model_module_version": "1.5.0",
            "_view_count": null,
            "_view_module_version": "1.2.0",
            "_model_module": "@jupyter-widgets/controls"
          }
        },
        "3d3d1d2204fc43e9a5929761a837d7c6": {
          "model_module": "@jupyter-widgets/base",
          "model_name": "LayoutModel",
          "state": {
            "_view_name": "LayoutView",
            "grid_template_rows": null,
            "right": null,
            "justify_content": null,
            "_view_module": "@jupyter-widgets/base",
            "overflow": null,
            "_model_module_version": "1.2.0",
            "_view_count": null,
            "flex_flow": null,
            "width": null,
            "min_width": null,
            "border": null,
            "align_items": null,
            "bottom": null,
            "_model_module": "@jupyter-widgets/base",
            "top": null,
            "grid_column": null,
            "overflow_y": null,
            "overflow_x": null,
            "grid_auto_flow": null,
            "grid_area": null,
            "grid_template_columns": null,
            "flex": null,
            "_model_name": "LayoutModel",
            "justify_items": null,
            "grid_row": null,
            "max_height": null,
            "align_content": null,
            "visibility": null,
            "align_self": null,
            "height": null,
            "min_height": null,
            "padding": null,
            "grid_auto_rows": null,
            "grid_gap": null,
            "max_width": null,
            "order": null,
            "_view_module_version": "1.2.0",
            "grid_template_areas": null,
            "object_position": null,
            "object_fit": null,
            "grid_auto_columns": null,
            "margin": null,
            "display": null,
            "left": null
          }
        },
        "b97a01db837a42a3b3ebbfba15f2de4e": {
          "model_module": "@jupyter-widgets/controls",
          "model_name": "HBoxModel",
          "state": {
            "_view_name": "HBoxView",
            "_dom_classes": [],
            "_model_name": "HBoxModel",
            "_view_module": "@jupyter-widgets/controls",
            "_model_module_version": "1.5.0",
            "_view_count": null,
            "_view_module_version": "1.5.0",
            "box_style": "",
            "layout": "IPY_MODEL_131feaa67faa4022966588e7be7aae3d",
            "_model_module": "@jupyter-widgets/controls",
            "children": [
              "IPY_MODEL_dee19ec84df0493abb8eaba69676cb17",
              "IPY_MODEL_5c3e25005f82433d850d76104e89c34b"
            ]
          }
        },
        "131feaa67faa4022966588e7be7aae3d": {
          "model_module": "@jupyter-widgets/base",
          "model_name": "LayoutModel",
          "state": {
            "_view_name": "LayoutView",
            "grid_template_rows": null,
            "right": null,
            "justify_content": null,
            "_view_module": "@jupyter-widgets/base",
            "overflow": null,
            "_model_module_version": "1.2.0",
            "_view_count": null,
            "flex_flow": null,
            "width": null,
            "min_width": null,
            "border": null,
            "align_items": null,
            "bottom": null,
            "_model_module": "@jupyter-widgets/base",
            "top": null,
            "grid_column": null,
            "overflow_y": null,
            "overflow_x": null,
            "grid_auto_flow": null,
            "grid_area": null,
            "grid_template_columns": null,
            "flex": null,
            "_model_name": "LayoutModel",
            "justify_items": null,
            "grid_row": null,
            "max_height": null,
            "align_content": null,
            "visibility": null,
            "align_self": null,
            "height": null,
            "min_height": null,
            "padding": null,
            "grid_auto_rows": null,
            "grid_gap": null,
            "max_width": null,
            "order": null,
            "_view_module_version": "1.2.0",
            "grid_template_areas": null,
            "object_position": null,
            "object_fit": null,
            "grid_auto_columns": null,
            "margin": null,
            "display": null,
            "left": null
          }
        },
        "dee19ec84df0493abb8eaba69676cb17": {
          "model_module": "@jupyter-widgets/controls",
          "model_name": "FloatProgressModel",
          "state": {
            "_view_name": "ProgressView",
            "style": "IPY_MODEL_0f495dd1075b468aa4c3dc9508220350",
            "_dom_classes": [],
            "description": "Downloading: 100%",
            "_model_name": "FloatProgressModel",
            "bar_style": "success",
            "max": 28,
            "_view_module": "@jupyter-widgets/controls",
            "_model_module_version": "1.5.0",
            "value": 28,
            "_view_count": null,
            "_view_module_version": "1.5.0",
            "orientation": "horizontal",
            "min": 0,
            "description_tooltip": null,
            "_model_module": "@jupyter-widgets/controls",
            "layout": "IPY_MODEL_3296765659a24033ba5f8e4959dec10e"
          }
        },
        "5c3e25005f82433d850d76104e89c34b": {
          "model_module": "@jupyter-widgets/controls",
          "model_name": "HTMLModel",
          "state": {
            "_view_name": "HTMLView",
            "style": "IPY_MODEL_79086b0d95e1495aa695887ceadfd8e9",
            "_dom_classes": [],
            "description": "",
            "_model_name": "HTMLModel",
            "placeholder": "​",
            "_view_module": "@jupyter-widgets/controls",
            "_model_module_version": "1.5.0",
            "value": " 28.0/28.0 [00:16&lt;00:00, 1.74B/s]",
            "_view_count": null,
            "_view_module_version": "1.5.0",
            "description_tooltip": null,
            "_model_module": "@jupyter-widgets/controls",
            "layout": "IPY_MODEL_619982b7048e49e4b546f97f8de21f9d"
          }
        },
        "0f495dd1075b468aa4c3dc9508220350": {
          "model_module": "@jupyter-widgets/controls",
          "model_name": "ProgressStyleModel",
          "state": {
            "_view_name": "StyleView",
            "_model_name": "ProgressStyleModel",
            "description_width": "initial",
            "_view_module": "@jupyter-widgets/base",
            "_model_module_version": "1.5.0",
            "_view_count": null,
            "_view_module_version": "1.2.0",
            "bar_color": null,
            "_model_module": "@jupyter-widgets/controls"
          }
        },
        "3296765659a24033ba5f8e4959dec10e": {
          "model_module": "@jupyter-widgets/base",
          "model_name": "LayoutModel",
          "state": {
            "_view_name": "LayoutView",
            "grid_template_rows": null,
            "right": null,
            "justify_content": null,
            "_view_module": "@jupyter-widgets/base",
            "overflow": null,
            "_model_module_version": "1.2.0",
            "_view_count": null,
            "flex_flow": null,
            "width": null,
            "min_width": null,
            "border": null,
            "align_items": null,
            "bottom": null,
            "_model_module": "@jupyter-widgets/base",
            "top": null,
            "grid_column": null,
            "overflow_y": null,
            "overflow_x": null,
            "grid_auto_flow": null,
            "grid_area": null,
            "grid_template_columns": null,
            "flex": null,
            "_model_name": "LayoutModel",
            "justify_items": null,
            "grid_row": null,
            "max_height": null,
            "align_content": null,
            "visibility": null,
            "align_self": null,
            "height": null,
            "min_height": null,
            "padding": null,
            "grid_auto_rows": null,
            "grid_gap": null,
            "max_width": null,
            "order": null,
            "_view_module_version": "1.2.0",
            "grid_template_areas": null,
            "object_position": null,
            "object_fit": null,
            "grid_auto_columns": null,
            "margin": null,
            "display": null,
            "left": null
          }
        },
        "79086b0d95e1495aa695887ceadfd8e9": {
          "model_module": "@jupyter-widgets/controls",
          "model_name": "DescriptionStyleModel",
          "state": {
            "_view_name": "StyleView",
            "_model_name": "DescriptionStyleModel",
            "description_width": "",
            "_view_module": "@jupyter-widgets/base",
            "_model_module_version": "1.5.0",
            "_view_count": null,
            "_view_module_version": "1.2.0",
            "_model_module": "@jupyter-widgets/controls"
          }
        },
        "619982b7048e49e4b546f97f8de21f9d": {
          "model_module": "@jupyter-widgets/base",
          "model_name": "LayoutModel",
          "state": {
            "_view_name": "LayoutView",
            "grid_template_rows": null,
            "right": null,
            "justify_content": null,
            "_view_module": "@jupyter-widgets/base",
            "overflow": null,
            "_model_module_version": "1.2.0",
            "_view_count": null,
            "flex_flow": null,
            "width": null,
            "min_width": null,
            "border": null,
            "align_items": null,
            "bottom": null,
            "_model_module": "@jupyter-widgets/base",
            "top": null,
            "grid_column": null,
            "overflow_y": null,
            "overflow_x": null,
            "grid_auto_flow": null,
            "grid_area": null,
            "grid_template_columns": null,
            "flex": null,
            "_model_name": "LayoutModel",
            "justify_items": null,
            "grid_row": null,
            "max_height": null,
            "align_content": null,
            "visibility": null,
            "align_self": null,
            "height": null,
            "min_height": null,
            "padding": null,
            "grid_auto_rows": null,
            "grid_gap": null,
            "max_width": null,
            "order": null,
            "_view_module_version": "1.2.0",
            "grid_template_areas": null,
            "object_position": null,
            "object_fit": null,
            "grid_auto_columns": null,
            "margin": null,
            "display": null,
            "left": null
          }
        },
        "6aca259cdd32434dbc37322d5977bf50": {
          "model_module": "@jupyter-widgets/controls",
          "model_name": "HBoxModel",
          "state": {
            "_view_name": "HBoxView",
            "_dom_classes": [],
            "_model_name": "HBoxModel",
            "_view_module": "@jupyter-widgets/controls",
            "_model_module_version": "1.5.0",
            "_view_count": null,
            "_view_module_version": "1.5.0",
            "box_style": "",
            "layout": "IPY_MODEL_64a3f6c019c541c0a4a9b59d274096c0",
            "_model_module": "@jupyter-widgets/controls",
            "children": [
              "IPY_MODEL_0e15c32c428d45ed864ea649149630c0",
              "IPY_MODEL_d1490ea15d6f4f96acb1e749a4c32f6f"
            ]
          }
        },
        "64a3f6c019c541c0a4a9b59d274096c0": {
          "model_module": "@jupyter-widgets/base",
          "model_name": "LayoutModel",
          "state": {
            "_view_name": "LayoutView",
            "grid_template_rows": null,
            "right": null,
            "justify_content": null,
            "_view_module": "@jupyter-widgets/base",
            "overflow": null,
            "_model_module_version": "1.2.0",
            "_view_count": null,
            "flex_flow": null,
            "width": null,
            "min_width": null,
            "border": null,
            "align_items": null,
            "bottom": null,
            "_model_module": "@jupyter-widgets/base",
            "top": null,
            "grid_column": null,
            "overflow_y": null,
            "overflow_x": null,
            "grid_auto_flow": null,
            "grid_area": null,
            "grid_template_columns": null,
            "flex": null,
            "_model_name": "LayoutModel",
            "justify_items": null,
            "grid_row": null,
            "max_height": null,
            "align_content": null,
            "visibility": null,
            "align_self": null,
            "height": null,
            "min_height": null,
            "padding": null,
            "grid_auto_rows": null,
            "grid_gap": null,
            "max_width": null,
            "order": null,
            "_view_module_version": "1.2.0",
            "grid_template_areas": null,
            "object_position": null,
            "object_fit": null,
            "grid_auto_columns": null,
            "margin": null,
            "display": null,
            "left": null
          }
        },
        "0e15c32c428d45ed864ea649149630c0": {
          "model_module": "@jupyter-widgets/controls",
          "model_name": "FloatProgressModel",
          "state": {
            "_view_name": "ProgressView",
            "style": "IPY_MODEL_d934f6f1d3c04825a4541ddb7a08608b",
            "_dom_classes": [],
            "description": "Downloading: 100%",
            "_model_name": "FloatProgressModel",
            "bar_style": "success",
            "max": 536063208,
            "_view_module": "@jupyter-widgets/controls",
            "_model_module_version": "1.5.0",
            "value": 536063208,
            "_view_count": null,
            "_view_module_version": "1.5.0",
            "orientation": "horizontal",
            "min": 0,
            "description_tooltip": null,
            "_model_module": "@jupyter-widgets/controls",
            "layout": "IPY_MODEL_4808c731a2fc498eba4a27f96ba0b7a7"
          }
        },
        "d1490ea15d6f4f96acb1e749a4c32f6f": {
          "model_module": "@jupyter-widgets/controls",
          "model_name": "HTMLModel",
          "state": {
            "_view_name": "HTMLView",
            "style": "IPY_MODEL_be5a86d54ee04167bc10adda436a8ccc",
            "_dom_classes": [],
            "description": "",
            "_model_name": "HTMLModel",
            "placeholder": "​",
            "_view_module": "@jupyter-widgets/controls",
            "_model_module_version": "1.5.0",
            "value": " 536M/536M [00:10&lt;00:00, 49.2MB/s]",
            "_view_count": null,
            "_view_module_version": "1.5.0",
            "description_tooltip": null,
            "_model_module": "@jupyter-widgets/controls",
            "layout": "IPY_MODEL_093cc5236b184833baf8f6f90a9d63c0"
          }
        },
        "d934f6f1d3c04825a4541ddb7a08608b": {
          "model_module": "@jupyter-widgets/controls",
          "model_name": "ProgressStyleModel",
          "state": {
            "_view_name": "StyleView",
            "_model_name": "ProgressStyleModel",
            "description_width": "initial",
            "_view_module": "@jupyter-widgets/base",
            "_model_module_version": "1.5.0",
            "_view_count": null,
            "_view_module_version": "1.2.0",
            "bar_color": null,
            "_model_module": "@jupyter-widgets/controls"
          }
        },
        "4808c731a2fc498eba4a27f96ba0b7a7": {
          "model_module": "@jupyter-widgets/base",
          "model_name": "LayoutModel",
          "state": {
            "_view_name": "LayoutView",
            "grid_template_rows": null,
            "right": null,
            "justify_content": null,
            "_view_module": "@jupyter-widgets/base",
            "overflow": null,
            "_model_module_version": "1.2.0",
            "_view_count": null,
            "flex_flow": null,
            "width": null,
            "min_width": null,
            "border": null,
            "align_items": null,
            "bottom": null,
            "_model_module": "@jupyter-widgets/base",
            "top": null,
            "grid_column": null,
            "overflow_y": null,
            "overflow_x": null,
            "grid_auto_flow": null,
            "grid_area": null,
            "grid_template_columns": null,
            "flex": null,
            "_model_name": "LayoutModel",
            "justify_items": null,
            "grid_row": null,
            "max_height": null,
            "align_content": null,
            "visibility": null,
            "align_self": null,
            "height": null,
            "min_height": null,
            "padding": null,
            "grid_auto_rows": null,
            "grid_gap": null,
            "max_width": null,
            "order": null,
            "_view_module_version": "1.2.0",
            "grid_template_areas": null,
            "object_position": null,
            "object_fit": null,
            "grid_auto_columns": null,
            "margin": null,
            "display": null,
            "left": null
          }
        },
        "be5a86d54ee04167bc10adda436a8ccc": {
          "model_module": "@jupyter-widgets/controls",
          "model_name": "DescriptionStyleModel",
          "state": {
            "_view_name": "StyleView",
            "_model_name": "DescriptionStyleModel",
            "description_width": "",
            "_view_module": "@jupyter-widgets/base",
            "_model_module_version": "1.5.0",
            "_view_count": null,
            "_view_module_version": "1.2.0",
            "_model_module": "@jupyter-widgets/controls"
          }
        },
        "093cc5236b184833baf8f6f90a9d63c0": {
          "model_module": "@jupyter-widgets/base",
          "model_name": "LayoutModel",
          "state": {
            "_view_name": "LayoutView",
            "grid_template_rows": null,
            "right": null,
            "justify_content": null,
            "_view_module": "@jupyter-widgets/base",
            "overflow": null,
            "_model_module_version": "1.2.0",
            "_view_count": null,
            "flex_flow": null,
            "width": null,
            "min_width": null,
            "border": null,
            "align_items": null,
            "bottom": null,
            "_model_module": "@jupyter-widgets/base",
            "top": null,
            "grid_column": null,
            "overflow_y": null,
            "overflow_x": null,
            "grid_auto_flow": null,
            "grid_area": null,
            "grid_template_columns": null,
            "flex": null,
            "_model_name": "LayoutModel",
            "justify_items": null,
            "grid_row": null,
            "max_height": null,
            "align_content": null,
            "visibility": null,
            "align_self": null,
            "height": null,
            "min_height": null,
            "padding": null,
            "grid_auto_rows": null,
            "grid_gap": null,
            "max_width": null,
            "order": null,
            "_view_module_version": "1.2.0",
            "grid_template_areas": null,
            "object_position": null,
            "object_fit": null,
            "grid_auto_columns": null,
            "margin": null,
            "display": null,
            "left": null
          }
        }
      }
    },
    "accelerator": "GPU"
  },
  "cells": [
    {
      "cell_type": "code",
      "metadata": {
        "colab": {
          "base_uri": "https://localhost:8080/"
        },
        "id": "8D7ph1CAdb_u",
        "outputId": "1d26266a-a662-4cf9-85b4-4586e4920c20"
      },
      "source": [
        "!pip install transformers\n",
        "!pip install emoji\n",
        "!pip install contractions"
      ],
      "execution_count": null,
      "outputs": [
        {
          "output_type": "stream",
          "text": [
            "Collecting transformers\n",
            "\u001b[?25l  Downloading https://files.pythonhosted.org/packages/b5/d5/c6c23ad75491467a9a84e526ef2364e523d45e2b0fae28a7cbe8689e7e84/transformers-4.8.1-py3-none-any.whl (2.5MB)\n",
            "\r\u001b[K     |▏                               | 10kB 22.4MB/s eta 0:00:01\r\u001b[K     |▎                               | 20kB 28.5MB/s eta 0:00:01\r\u001b[K     |▍                               | 30kB 33.7MB/s eta 0:00:01\r\u001b[K     |▌                               | 40kB 30.8MB/s eta 0:00:01\r\u001b[K     |▋                               | 51kB 32.5MB/s eta 0:00:01\r\u001b[K     |▉                               | 61kB 33.5MB/s eta 0:00:01\r\u001b[K     |█                               | 71kB 30.0MB/s eta 0:00:01\r\u001b[K     |█                               | 81kB 30.8MB/s eta 0:00:01\r\u001b[K     |█▏                              | 92kB 32.4MB/s eta 0:00:01\r\u001b[K     |█▎                              | 102kB 33.3MB/s eta 0:00:01\r\u001b[K     |█▌                              | 112kB 33.3MB/s eta 0:00:01\r\u001b[K     |█▋                              | 122kB 33.3MB/s eta 0:00:01\r\u001b[K     |█▊                              | 133kB 33.3MB/s eta 0:00:01\r\u001b[K     |█▉                              | 143kB 33.3MB/s eta 0:00:01\r\u001b[K     |██                              | 153kB 33.3MB/s eta 0:00:01\r\u001b[K     |██                              | 163kB 33.3MB/s eta 0:00:01\r\u001b[K     |██▎                             | 174kB 33.3MB/s eta 0:00:01\r\u001b[K     |██▍                             | 184kB 33.3MB/s eta 0:00:01\r\u001b[K     |██▌                             | 194kB 33.3MB/s eta 0:00:01\r\u001b[K     |██▋                             | 204kB 33.3MB/s eta 0:00:01\r\u001b[K     |██▊                             | 215kB 33.3MB/s eta 0:00:01\r\u001b[K     |███                             | 225kB 33.3MB/s eta 0:00:01\r\u001b[K     |███                             | 235kB 33.3MB/s eta 0:00:01\r\u001b[K     |███▏                            | 245kB 33.3MB/s eta 0:00:01\r\u001b[K     |███▎                            | 256kB 33.3MB/s eta 0:00:01\r\u001b[K     |███▍                            | 266kB 33.3MB/s eta 0:00:01\r\u001b[K     |███▌                            | 276kB 33.3MB/s eta 0:00:01\r\u001b[K     |███▊                            | 286kB 33.3MB/s eta 0:00:01\r\u001b[K     |███▉                            | 296kB 33.3MB/s eta 0:00:01\r\u001b[K     |████                            | 307kB 33.3MB/s eta 0:00:01\r\u001b[K     |████                            | 317kB 33.3MB/s eta 0:00:01\r\u001b[K     |████▏                           | 327kB 33.3MB/s eta 0:00:01\r\u001b[K     |████▍                           | 337kB 33.3MB/s eta 0:00:01\r\u001b[K     |████▌                           | 348kB 33.3MB/s eta 0:00:01\r\u001b[K     |████▋                           | 358kB 33.3MB/s eta 0:00:01\r\u001b[K     |████▊                           | 368kB 33.3MB/s eta 0:00:01\r\u001b[K     |████▉                           | 378kB 33.3MB/s eta 0:00:01\r\u001b[K     |█████                           | 389kB 33.3MB/s eta 0:00:01\r\u001b[K     |█████▏                          | 399kB 33.3MB/s eta 0:00:01\r\u001b[K     |█████▎                          | 409kB 33.3MB/s eta 0:00:01\r\u001b[K     |█████▍                          | 419kB 33.3MB/s eta 0:00:01\r\u001b[K     |█████▌                          | 430kB 33.3MB/s eta 0:00:01\r\u001b[K     |█████▋                          | 440kB 33.3MB/s eta 0:00:01\r\u001b[K     |█████▉                          | 450kB 33.3MB/s eta 0:00:01\r\u001b[K     |██████                          | 460kB 33.3MB/s eta 0:00:01\r\u001b[K     |██████                          | 471kB 33.3MB/s eta 0:00:01\r\u001b[K     |██████▏                         | 481kB 33.3MB/s eta 0:00:01\r\u001b[K     |██████▎                         | 491kB 33.3MB/s eta 0:00:01\r\u001b[K     |██████▍                         | 501kB 33.3MB/s eta 0:00:01\r\u001b[K     |██████▋                         | 512kB 33.3MB/s eta 0:00:01\r\u001b[K     |██████▊                         | 522kB 33.3MB/s eta 0:00:01\r\u001b[K     |██████▉                         | 532kB 33.3MB/s eta 0:00:01\r\u001b[K     |███████                         | 542kB 33.3MB/s eta 0:00:01\r\u001b[K     |███████                         | 552kB 33.3MB/s eta 0:00:01\r\u001b[K     |███████▎                        | 563kB 33.3MB/s eta 0:00:01\r\u001b[K     |███████▍                        | 573kB 33.3MB/s eta 0:00:01\r\u001b[K     |███████▌                        | 583kB 33.3MB/s eta 0:00:01\r\u001b[K     |███████▋                        | 593kB 33.3MB/s eta 0:00:01\r\u001b[K     |███████▊                        | 604kB 33.3MB/s eta 0:00:01\r\u001b[K     |███████▉                        | 614kB 33.3MB/s eta 0:00:01\r\u001b[K     |████████                        | 624kB 33.3MB/s eta 0:00:01\r\u001b[K     |████████▏                       | 634kB 33.3MB/s eta 0:00:01\r\u001b[K     |████████▎                       | 645kB 33.3MB/s eta 0:00:01\r\u001b[K     |████████▍                       | 655kB 33.3MB/s eta 0:00:01\r\u001b[K     |████████▌                       | 665kB 33.3MB/s eta 0:00:01\r\u001b[K     |████████▊                       | 675kB 33.3MB/s eta 0:00:01\r\u001b[K     |████████▉                       | 686kB 33.3MB/s eta 0:00:01\r\u001b[K     |█████████                       | 696kB 33.3MB/s eta 0:00:01\r\u001b[K     |█████████                       | 706kB 33.3MB/s eta 0:00:01\r\u001b[K     |█████████▏                      | 716kB 33.3MB/s eta 0:00:01\r\u001b[K     |█████████▎                      | 727kB 33.3MB/s eta 0:00:01\r\u001b[K     |█████████▌                      | 737kB 33.3MB/s eta 0:00:01\r\u001b[K     |█████████▋                      | 747kB 33.3MB/s eta 0:00:01\r\u001b[K     |█████████▊                      | 757kB 33.3MB/s eta 0:00:01\r\u001b[K     |█████████▉                      | 768kB 33.3MB/s eta 0:00:01\r\u001b[K     |██████████                      | 778kB 33.3MB/s eta 0:00:01\r\u001b[K     |██████████▏                     | 788kB 33.3MB/s eta 0:00:01\r\u001b[K     |██████████▎                     | 798kB 33.3MB/s eta 0:00:01\r\u001b[K     |██████████▍                     | 808kB 33.3MB/s eta 0:00:01\r\u001b[K     |██████████▌                     | 819kB 33.3MB/s eta 0:00:01\r\u001b[K     |██████████▋                     | 829kB 33.3MB/s eta 0:00:01\r\u001b[K     |██████████▊                     | 839kB 33.3MB/s eta 0:00:01\r\u001b[K     |███████████                     | 849kB 33.3MB/s eta 0:00:01\r\u001b[K     |███████████                     | 860kB 33.3MB/s eta 0:00:01\r\u001b[K     |███████████▏                    | 870kB 33.3MB/s eta 0:00:01\r\u001b[K     |███████████▎                    | 880kB 33.3MB/s eta 0:00:01\r\u001b[K     |███████████▍                    | 890kB 33.3MB/s eta 0:00:01\r\u001b[K     |███████████▋                    | 901kB 33.3MB/s eta 0:00:01\r\u001b[K     |███████████▊                    | 911kB 33.3MB/s eta 0:00:01\r\u001b[K     |███████████▉                    | 921kB 33.3MB/s eta 0:00:01\r\u001b[K     |████████████                    | 931kB 33.3MB/s eta 0:00:01\r\u001b[K     |████████████                    | 942kB 33.3MB/s eta 0:00:01\r\u001b[K     |████████████▏                   | 952kB 33.3MB/s eta 0:00:01\r\u001b[K     |████████████▍                   | 962kB 33.3MB/s eta 0:00:01\r\u001b[K     |████████████▌                   | 972kB 33.3MB/s eta 0:00:01\r\u001b[K     |████████████▋                   | 983kB 33.3MB/s eta 0:00:01\r\u001b[K     |████████████▊                   | 993kB 33.3MB/s eta 0:00:01\r\u001b[K     |████████████▉                   | 1.0MB 33.3MB/s eta 0:00:01\r\u001b[K     |█████████████                   | 1.0MB 33.3MB/s eta 0:00:01\r\u001b[K     |█████████████▏                  | 1.0MB 33.3MB/s eta 0:00:01\r\u001b[K     |█████████████▎                  | 1.0MB 33.3MB/s eta 0:00:01\r\u001b[K     |█████████████▍                  | 1.0MB 33.3MB/s eta 0:00:01\r\u001b[K     |█████████████▌                  | 1.1MB 33.3MB/s eta 0:00:01\r\u001b[K     |█████████████▋                  | 1.1MB 33.3MB/s eta 0:00:01\r\u001b[K     |█████████████▉                  | 1.1MB 33.3MB/s eta 0:00:01\r\u001b[K     |██████████████                  | 1.1MB 33.3MB/s eta 0:00:01\r\u001b[K     |██████████████                  | 1.1MB 33.3MB/s eta 0:00:01\r\u001b[K     |██████████████▏                 | 1.1MB 33.3MB/s eta 0:00:01\r\u001b[K     |██████████████▎                 | 1.1MB 33.3MB/s eta 0:00:01\r\u001b[K     |██████████████▌                 | 1.1MB 33.3MB/s eta 0:00:01\r\u001b[K     |██████████████▋                 | 1.1MB 33.3MB/s eta 0:00:01\r\u001b[K     |██████████████▊                 | 1.1MB 33.3MB/s eta 0:00:01\r\u001b[K     |██████████████▉                 | 1.2MB 33.3MB/s eta 0:00:01\r\u001b[K     |███████████████                 | 1.2MB 33.3MB/s eta 0:00:01\r\u001b[K     |███████████████                 | 1.2MB 33.3MB/s eta 0:00:01\r\u001b[K     |███████████████▎                | 1.2MB 33.3MB/s eta 0:00:01\r\u001b[K     |███████████████▍                | 1.2MB 33.3MB/s eta 0:00:01\r\u001b[K     |███████████████▌                | 1.2MB 33.3MB/s eta 0:00:01\r\u001b[K     |███████████████▋                | 1.2MB 33.3MB/s eta 0:00:01\r\u001b[K     |███████████████▊                | 1.2MB 33.3MB/s eta 0:00:01\r\u001b[K     |████████████████                | 1.2MB 33.3MB/s eta 0:00:01\r\u001b[K     |████████████████                | 1.2MB 33.3MB/s eta 0:00:01\r\u001b[K     |████████████████▏               | 1.3MB 33.3MB/s eta 0:00:01\r\u001b[K     |████████████████▎               | 1.3MB 33.3MB/s eta 0:00:01\r\u001b[K     |████████████████▍               | 1.3MB 33.3MB/s eta 0:00:01\r\u001b[K     |████████████████▌               | 1.3MB 33.3MB/s eta 0:00:01\r\u001b[K     |████████████████▊               | 1.3MB 33.3MB/s eta 0:00:01\r\u001b[K     |████████████████▉               | 1.3MB 33.3MB/s eta 0:00:01\r\u001b[K     |█████████████████               | 1.3MB 33.3MB/s eta 0:00:01\r\u001b[K     |█████████████████               | 1.3MB 33.3MB/s eta 0:00:01\r\u001b[K     |█████████████████▏              | 1.3MB 33.3MB/s eta 0:00:01\r\u001b[K     |█████████████████▍              | 1.4MB 33.3MB/s eta 0:00:01\r\u001b[K     |█████████████████▌              | 1.4MB 33.3MB/s eta 0:00:01\r\u001b[K     |█████████████████▋              | 1.4MB 33.3MB/s eta 0:00:01\r\u001b[K     |█████████████████▊              | 1.4MB 33.3MB/s eta 0:00:01\r\u001b[K     |█████████████████▉              | 1.4MB 33.3MB/s eta 0:00:01\r\u001b[K     |██████████████████              | 1.4MB 33.3MB/s eta 0:00:01\r\u001b[K     |██████████████████▏             | 1.4MB 33.3MB/s eta 0:00:01\r\u001b[K     |██████████████████▎             | 1.4MB 33.3MB/s eta 0:00:01\r\u001b[K     |██████████████████▍             | 1.4MB 33.3MB/s eta 0:00:01\r\u001b[K     |██████████████████▌             | 1.4MB 33.3MB/s eta 0:00:01\r\u001b[K     |██████████████████▋             | 1.5MB 33.3MB/s eta 0:00:01\r\u001b[K     |██████████████████▉             | 1.5MB 33.3MB/s eta 0:00:01\r\u001b[K     |███████████████████             | 1.5MB 33.3MB/s eta 0:00:01\r\u001b[K     |███████████████████             | 1.5MB 33.3MB/s eta 0:00:01\r\u001b[K     |███████████████████▏            | 1.5MB 33.3MB/s eta 0:00:01\r\u001b[K     |███████████████████▎            | 1.5MB 33.3MB/s eta 0:00:01\r\u001b[K     |███████████████████▍            | 1.5MB 33.3MB/s eta 0:00:01\r\u001b[K     |███████████████████▋            | 1.5MB 33.3MB/s eta 0:00:01\r\u001b[K     |███████████████████▊            | 1.5MB 33.3MB/s eta 0:00:01\r\u001b[K     |███████████████████▉            | 1.5MB 33.3MB/s eta 0:00:01\r\u001b[K     |████████████████████            | 1.6MB 33.3MB/s eta 0:00:01\r\u001b[K     |████████████████████            | 1.6MB 33.3MB/s eta 0:00:01\r\u001b[K     |████████████████████▎           | 1.6MB 33.3MB/s eta 0:00:01\r\u001b[K     |████████████████████▍           | 1.6MB 33.3MB/s eta 0:00:01\r\u001b[K     |████████████████████▌           | 1.6MB 33.3MB/s eta 0:00:01\r\u001b[K     |████████████████████▋           | 1.6MB 33.3MB/s eta 0:00:01\r\u001b[K     |████████████████████▊           | 1.6MB 33.3MB/s eta 0:00:01\r\u001b[K     |████████████████████▉           | 1.6MB 33.3MB/s eta 0:00:01\r\u001b[K     |█████████████████████           | 1.6MB 33.3MB/s eta 0:00:01\r\u001b[K     |█████████████████████▏          | 1.6MB 33.3MB/s eta 0:00:01\r\u001b[K     |█████████████████████▎          | 1.7MB 33.3MB/s eta 0:00:01\r\u001b[K     |█████████████████████▍          | 1.7MB 33.3MB/s eta 0:00:01\r\u001b[K     |█████████████████████▌          | 1.7MB 33.3MB/s eta 0:00:01\r\u001b[K     |█████████████████████▊          | 1.7MB 33.3MB/s eta 0:00:01\r\u001b[K     |█████████████████████▉          | 1.7MB 33.3MB/s eta 0:00:01\r\u001b[K     |██████████████████████          | 1.7MB 33.3MB/s eta 0:00:01\r\u001b[K     |██████████████████████          | 1.7MB 33.3MB/s eta 0:00:01\r\u001b[K     |██████████████████████▏         | 1.7MB 33.3MB/s eta 0:00:01\r\u001b[K     |██████████████████████▎         | 1.7MB 33.3MB/s eta 0:00:01\r\u001b[K     |██████████████████████▌         | 1.8MB 33.3MB/s eta 0:00:01\r\u001b[K     |██████████████████████▋         | 1.8MB 33.3MB/s eta 0:00:01\r\u001b[K     |██████████████████████▊         | 1.8MB 33.3MB/s eta 0:00:01\r\u001b[K     |██████████████████████▉         | 1.8MB 33.3MB/s eta 0:00:01\r\u001b[K     |███████████████████████         | 1.8MB 33.3MB/s eta 0:00:01\r\u001b[K     |███████████████████████▏        | 1.8MB 33.3MB/s eta 0:00:01\r\u001b[K     |███████████████████████▎        | 1.8MB 33.3MB/s eta 0:00:01\r\u001b[K     |███████████████████████▍        | 1.8MB 33.3MB/s eta 0:00:01\r\u001b[K     |███████████████████████▌        | 1.8MB 33.3MB/s eta 0:00:01\r\u001b[K     |███████████████████████▋        | 1.8MB 33.3MB/s eta 0:00:01\r\u001b[K     |███████████████████████▊        | 1.9MB 33.3MB/s eta 0:00:01\r\u001b[K     |████████████████████████        | 1.9MB 33.3MB/s eta 0:00:01\r\u001b[K     |████████████████████████        | 1.9MB 33.3MB/s eta 0:00:01\r\u001b[K     |████████████████████████▏       | 1.9MB 33.3MB/s eta 0:00:01\r\u001b[K     |████████████████████████▎       | 1.9MB 33.3MB/s eta 0:00:01\r\u001b[K     |████████████████████████▍       | 1.9MB 33.3MB/s eta 0:00:01\r\u001b[K     |████████████████████████▋       | 1.9MB 33.3MB/s eta 0:00:01\r\u001b[K     |████████████████████████▊       | 1.9MB 33.3MB/s eta 0:00:01\r\u001b[K     |████████████████████████▉       | 1.9MB 33.3MB/s eta 0:00:01\r\u001b[K     |█████████████████████████       | 1.9MB 33.3MB/s eta 0:00:01\r\u001b[K     |█████████████████████████       | 2.0MB 33.3MB/s eta 0:00:01\r\u001b[K     |█████████████████████████▏      | 2.0MB 33.3MB/s eta 0:00:01\r\u001b[K     |█████████████████████████▍      | 2.0MB 33.3MB/s eta 0:00:01\r\u001b[K     |█████████████████████████▌      | 2.0MB 33.3MB/s eta 0:00:01\r\u001b[K     |█████████████████████████▋      | 2.0MB 33.3MB/s eta 0:00:01\r\u001b[K     |█████████████████████████▊      | 2.0MB 33.3MB/s eta 0:00:01\r\u001b[K     |█████████████████████████▉      | 2.0MB 33.3MB/s eta 0:00:01\r\u001b[K     |██████████████████████████      | 2.0MB 33.3MB/s eta 0:00:01\r\u001b[K     |██████████████████████████▏     | 2.0MB 33.3MB/s eta 0:00:01\r\u001b[K     |██████████████████████████▎     | 2.0MB 33.3MB/s eta 0:00:01\r\u001b[K     |██████████████████████████▍     | 2.1MB 33.3MB/s eta 0:00:01\r\u001b[K     |██████████████████████████▌     | 2.1MB 33.3MB/s eta 0:00:01\r\u001b[K     |██████████████████████████▋     | 2.1MB 33.3MB/s eta 0:00:01\r\u001b[K     |██████████████████████████▉     | 2.1MB 33.3MB/s eta 0:00:01\r\u001b[K     |███████████████████████████     | 2.1MB 33.3MB/s eta 0:00:01\r\u001b[K     |███████████████████████████     | 2.1MB 33.3MB/s eta 0:00:01\r\u001b[K     |███████████████████████████▏    | 2.1MB 33.3MB/s eta 0:00:01\r\u001b[K     |███████████████████████████▎    | 2.1MB 33.3MB/s eta 0:00:01\r\u001b[K     |███████████████████████████▌    | 2.1MB 33.3MB/s eta 0:00:01\r\u001b[K     |███████████████████████████▋    | 2.2MB 33.3MB/s eta 0:00:01\r\u001b[K     |███████████████████████████▊    | 2.2MB 33.3MB/s eta 0:00:01\r\u001b[K     |███████████████████████████▉    | 2.2MB 33.3MB/s eta 0:00:01\r\u001b[K     |████████████████████████████    | 2.2MB 33.3MB/s eta 0:00:01\r\u001b[K     |████████████████████████████    | 2.2MB 33.3MB/s eta 0:00:01\r\u001b[K     |████████████████████████████▎   | 2.2MB 33.3MB/s eta 0:00:01\r\u001b[K     |████████████████████████████▍   | 2.2MB 33.3MB/s eta 0:00:01\r\u001b[K     |████████████████████████████▌   | 2.2MB 33.3MB/s eta 0:00:01\r\u001b[K     |████████████████████████████▋   | 2.2MB 33.3MB/s eta 0:00:01\r\u001b[K     |████████████████████████████▊   | 2.2MB 33.3MB/s eta 0:00:01\r\u001b[K     |█████████████████████████████   | 2.3MB 33.3MB/s eta 0:00:01\r\u001b[K     |█████████████████████████████   | 2.3MB 33.3MB/s eta 0:00:01\r\u001b[K     |█████████████████████████████▏  | 2.3MB 33.3MB/s eta 0:00:01\r\u001b[K     |█████████████████████████████▎  | 2.3MB 33.3MB/s eta 0:00:01\r\u001b[K     |█████████████████████████████▍  | 2.3MB 33.3MB/s eta 0:00:01\r\u001b[K     |█████████████████████████████▌  | 2.3MB 33.3MB/s eta 0:00:01\r\u001b[K     |█████████████████████████████▊  | 2.3MB 33.3MB/s eta 0:00:01\r\u001b[K     |█████████████████████████████▉  | 2.3MB 33.3MB/s eta 0:00:01\r\u001b[K     |██████████████████████████████  | 2.3MB 33.3MB/s eta 0:00:01\r\u001b[K     |██████████████████████████████  | 2.3MB 33.3MB/s eta 0:00:01\r\u001b[K     |██████████████████████████████▏ | 2.4MB 33.3MB/s eta 0:00:01\r\u001b[K     |██████████████████████████████▍ | 2.4MB 33.3MB/s eta 0:00:01\r\u001b[K     |██████████████████████████████▌ | 2.4MB 33.3MB/s eta 0:00:01\r\u001b[K     |██████████████████████████████▋ | 2.4MB 33.3MB/s eta 0:00:01\r\u001b[K     |██████████████████████████████▊ | 2.4MB 33.3MB/s eta 0:00:01\r\u001b[K     |██████████████████████████████▉ | 2.4MB 33.3MB/s eta 0:00:01\r\u001b[K     |███████████████████████████████ | 2.4MB 33.3MB/s eta 0:00:01\r\u001b[K     |███████████████████████████████▏| 2.4MB 33.3MB/s eta 0:00:01\r\u001b[K     |███████████████████████████████▎| 2.4MB 33.3MB/s eta 0:00:01\r\u001b[K     |███████████████████████████████▍| 2.4MB 33.3MB/s eta 0:00:01\r\u001b[K     |███████████████████████████████▌| 2.5MB 33.3MB/s eta 0:00:01\r\u001b[K     |███████████████████████████████▋| 2.5MB 33.3MB/s eta 0:00:01\r\u001b[K     |███████████████████████████████▉| 2.5MB 33.3MB/s eta 0:00:01\r\u001b[K     |████████████████████████████████| 2.5MB 33.3MB/s eta 0:00:01\r\u001b[K     |████████████████████████████████| 2.5MB 33.3MB/s \n",
            "\u001b[?25hRequirement already satisfied: pyyaml in /usr/local/lib/python3.7/dist-packages (from transformers) (3.13)\n",
            "Requirement already satisfied: tqdm>=4.27 in /usr/local/lib/python3.7/dist-packages (from transformers) (4.41.1)\n",
            "Requirement already satisfied: packaging in /usr/local/lib/python3.7/dist-packages (from transformers) (20.9)\n",
            "Collecting tokenizers<0.11,>=0.10.1\n",
            "\u001b[?25l  Downloading https://files.pythonhosted.org/packages/d4/e2/df3543e8ffdab68f5acc73f613de9c2b155ac47f162e725dcac87c521c11/tokenizers-0.10.3-cp37-cp37m-manylinux_2_5_x86_64.manylinux1_x86_64.manylinux_2_12_x86_64.manylinux2010_x86_64.whl (3.3MB)\n",
            "\u001b[K     |████████████████████████████████| 3.3MB 44.0MB/s \n",
            "\u001b[?25hRequirement already satisfied: filelock in /usr/local/lib/python3.7/dist-packages (from transformers) (3.0.12)\n",
            "Collecting huggingface-hub==0.0.12\n",
            "  Downloading https://files.pythonhosted.org/packages/2f/ee/97e253668fda9b17e968b3f97b2f8e53aa0127e8807d24a547687423fe0b/huggingface_hub-0.0.12-py3-none-any.whl\n",
            "Requirement already satisfied: numpy>=1.17 in /usr/local/lib/python3.7/dist-packages (from transformers) (1.19.5)\n",
            "Collecting sacremoses\n",
            "\u001b[?25l  Downloading https://files.pythonhosted.org/packages/75/ee/67241dc87f266093c533a2d4d3d69438e57d7a90abb216fa076e7d475d4a/sacremoses-0.0.45-py3-none-any.whl (895kB)\n",
            "\u001b[K     |████████████████████████████████| 901kB 44.1MB/s \n",
            "\u001b[?25hRequirement already satisfied: regex!=2019.12.17 in /usr/local/lib/python3.7/dist-packages (from transformers) (2019.12.20)\n",
            "Requirement already satisfied: importlib-metadata; python_version < \"3.8\" in /usr/local/lib/python3.7/dist-packages (from transformers) (4.5.0)\n",
            "Requirement already satisfied: requests in /usr/local/lib/python3.7/dist-packages (from transformers) (2.23.0)\n",
            "Requirement already satisfied: pyparsing>=2.0.2 in /usr/local/lib/python3.7/dist-packages (from packaging->transformers) (2.4.7)\n",
            "Requirement already satisfied: typing-extensions in /usr/local/lib/python3.7/dist-packages (from huggingface-hub==0.0.12->transformers) (3.7.4.3)\n",
            "Requirement already satisfied: click in /usr/local/lib/python3.7/dist-packages (from sacremoses->transformers) (7.1.2)\n",
            "Requirement already satisfied: joblib in /usr/local/lib/python3.7/dist-packages (from sacremoses->transformers) (1.0.1)\n",
            "Requirement already satisfied: six in /usr/local/lib/python3.7/dist-packages (from sacremoses->transformers) (1.15.0)\n",
            "Requirement already satisfied: zipp>=0.5 in /usr/local/lib/python3.7/dist-packages (from importlib-metadata; python_version < \"3.8\"->transformers) (3.4.1)\n",
            "Requirement already satisfied: chardet<4,>=3.0.2 in /usr/local/lib/python3.7/dist-packages (from requests->transformers) (3.0.4)\n",
            "Requirement already satisfied: urllib3!=1.25.0,!=1.25.1,<1.26,>=1.21.1 in /usr/local/lib/python3.7/dist-packages (from requests->transformers) (1.24.3)\n",
            "Requirement already satisfied: certifi>=2017.4.17 in /usr/local/lib/python3.7/dist-packages (from requests->transformers) (2021.5.30)\n",
            "Requirement already satisfied: idna<3,>=2.5 in /usr/local/lib/python3.7/dist-packages (from requests->transformers) (2.10)\n",
            "Installing collected packages: tokenizers, huggingface-hub, sacremoses, transformers\n",
            "Successfully installed huggingface-hub-0.0.12 sacremoses-0.0.45 tokenizers-0.10.3 transformers-4.8.1\n",
            "Collecting emoji\n",
            "\u001b[?25l  Downloading https://files.pythonhosted.org/packages/24/fa/b3368f41b95a286f8d300e323449ab4e86b85334c2e0b477e94422b8ed0f/emoji-1.2.0-py3-none-any.whl (131kB)\n",
            "\u001b[K     |████████████████████████████████| 133kB 27.3MB/s \n",
            "\u001b[?25hInstalling collected packages: emoji\n",
            "Successfully installed emoji-1.2.0\n",
            "Collecting contractions\n",
            "  Downloading https://files.pythonhosted.org/packages/93/f4/0ec4a458e4368cc3be2c799411ecf0bc961930e566dadb9624563821b3a6/contractions-0.0.52-py2.py3-none-any.whl\n",
            "Collecting textsearch>=0.0.21\n",
            "  Downloading https://files.pythonhosted.org/packages/d3/fe/021d7d76961b5ceb9f8d022c4138461d83beff36c3938dc424586085e559/textsearch-0.0.21-py2.py3-none-any.whl\n",
            "Collecting pyahocorasick\n",
            "\u001b[?25l  Downloading https://files.pythonhosted.org/packages/7f/c2/eae730037ae1cbbfaa229d27030d1d5e34a1e41114b21447d1202ae9c220/pyahocorasick-1.4.2.tar.gz (321kB)\n",
            "\u001b[K     |████████████████████████████████| 327kB 39.0MB/s \n",
            "\u001b[?25hCollecting anyascii\n",
            "\u001b[?25l  Downloading https://files.pythonhosted.org/packages/a3/14/666cd44bf53f36a961544af592cb5c5c800013f9c51a4745af8d7c17362a/anyascii-0.2.0-py3-none-any.whl (283kB)\n",
            "\u001b[K     |████████████████████████████████| 286kB 45.8MB/s \n",
            "\u001b[?25hBuilding wheels for collected packages: pyahocorasick\n",
            "  Building wheel for pyahocorasick (setup.py) ... \u001b[?25l\u001b[?25hdone\n",
            "  Created wheel for pyahocorasick: filename=pyahocorasick-1.4.2-cp37-cp37m-linux_x86_64.whl size=85404 sha256=d05488bbef60cd9de1d9a52545295ca3630d9931b1533c7c3932025b56ea3476\n",
            "  Stored in directory: /root/.cache/pip/wheels/3a/03/34/77e3ece0bba8b86bfac88a79f923b36d805cad63caeba38842\n",
            "Successfully built pyahocorasick\n",
            "Installing collected packages: pyahocorasick, anyascii, textsearch, contractions\n",
            "Successfully installed anyascii-0.2.0 contractions-0.0.52 pyahocorasick-1.4.2 textsearch-0.0.21\n"
          ],
          "name": "stdout"
        }
      ]
    },
    {
      "cell_type": "code",
      "metadata": {
        "id": "0ln_d41CdeET"
      },
      "source": [
        "# Data manipulation libraries\n",
        "import sys, os\n",
        "import pandas as pd\n",
        "import numpy as np\n",
        "import json\n",
        "\n",
        "import emoji\n",
        "import contractions\n",
        "import re\n",
        "\n",
        "# Scikit-learn packages\n",
        "from sklearn.metrics import accuracy_score\n",
        "from sklearn.metrics import precision_recall_fscore_support\n",
        "from sklearn.utils.class_weight import compute_class_weight\n",
        "\n",
        "# Packages to define a BERT model\n",
        "from transformers import TFBertModel, BertTokenizerFast, BertConfig\n",
        "\n",
        "# Keras and TensorFlow packages\n",
        "import tensorflow as tf\n",
        "from tensorflow import keras\n",
        "from tensorflow.keras import layers\n",
        "from keras import backend as K\n",
        "from tensorflow.keras.layers import Input, Dropout, Dense\n",
        "from tensorflow.keras.models import Model\n",
        "from tensorflow.keras.optimizers import Adam\n",
        "from tensorflow.keras.initializers import TruncatedNormal"
      ],
      "execution_count": null,
      "outputs": []
    },
    {
      "cell_type": "code",
      "metadata": {
        "colab": {
          "base_uri": "https://localhost:8080/"
        },
        "id": "aoBvzy6tecJ0",
        "outputId": "ea29b2ae-0839-44b1-e44d-e38af2edbc40"
      },
      "source": [
        "# Importing train, validation and test datasets with preprocessed texts and labels\n",
        "train_GE = pd.read_excel(\"/content/drive/MyDrive/train.xlsx\")\n",
        "val_GE = pd.read_excel(\"/content/drive/MyDrive/val.xlsx\")\n",
        "test_GE = pd.read_excel(\"/content/drive/MyDrive/test.xlsx\")\n",
        "# Shape validation\n",
        "print(train_GE.shape)\n",
        "print(test_GE.shape)\n",
        "\n",
        "print(val_GE.shape)"
      ],
      "execution_count": null,
      "outputs": [
        {
          "output_type": "stream",
          "text": [
            "(5000, 2)\n",
            "(501, 2)\n",
            "(1001, 2)\n"
          ],
          "name": "stdout"
        }
      ]
    },
    {
      "cell_type": "code",
      "metadata": {
        "colab": {
          "base_uri": "https://localhost:8080/"
        },
        "id": "AjAYm4LsYx5R",
        "outputId": "9a13a80a-61da-4db3-88aa-fd247ab01549"
      },
      "source": [
        "print(train_GE.columns)\n",
        "print(test_GE.columns)"
      ],
      "execution_count": null,
      "outputs": [
        {
          "output_type": "stream",
          "text": [
            "Index(['review', 'sentiment'], dtype='object')\n",
            "Index(['review', 'sentiment'], dtype='object')\n"
          ],
          "name": "stdout"
        }
      ]
    },
    {
      "cell_type": "code",
      "metadata": {
        "id": "aDSEPSXcIbKf"
      },
      "source": [
        "data = train_GE.copy()\n",
        "data.drop([\"review\"],axis=1,inplace=True)\n",
        "#data[\"sentiment\"].replace(0,\"negative\",inplace=True)\n",
        "#data[\"sentiment\"].replace(1,\"positive\",inplace=True)\n",
        "data=pd.get_dummies(data)\n",
        "train = pd.concat([train_GE,data], axis=1, join='inner')\n",
        "train.drop([\"sentiment\"],axis=1,inplace=True)"
      ],
      "execution_count": null,
      "outputs": []
    },
    {
      "cell_type": "code",
      "metadata": {
        "id": "XeFllC3NMebS"
      },
      "source": [
        "data1 = val_GE.copy()\n",
        "data1.drop([\"review\"],axis=1,inplace=True)\n",
        "#data1[\"label\"].replace(0,\"negative\",inplace=True)\n",
        "#data1[\"label\"].replace(1,\"positive\",inplace=True)\n",
        "data1=pd.get_dummies(data1)\n",
        "val = pd.concat([val_GE,data1], axis=1, join='inner')\n",
        "val.drop([\"sentiment\"],axis=1,inplace=True)"
      ],
      "execution_count": null,
      "outputs": []
    },
    {
      "cell_type": "code",
      "metadata": {
        "id": "9qvgJvT8Ncu4"
      },
      "source": [
        "data2 = test_GE.copy()\n",
        "data2.drop([\"review\"],axis=1,inplace=True)\n",
        "#data2.replace(0,\"negative\",inplace=True)\n",
        "#data2.replace(1,\"positive\",inplace=True)\n",
        "data2=pd.get_dummies(data2)\n",
        "test = pd.concat([test_GE,data2], axis=1, join='inner')\n",
        "test.drop([\"sentiment\"],axis=1,inplace=True)"
      ],
      "execution_count": null,
      "outputs": []
    },
    {
      "cell_type": "code",
      "metadata": {
        "colab": {
          "base_uri": "https://localhost:8080/"
        },
        "id": "64D72LLSgi9i",
        "outputId": "07e5f27c-da54-44cd-df5f-a100cf8a0b92"
      },
      "source": [
        "full_text = pd.concat([train['review'],test[\"review\"],val[\"review\"]])\n",
        "max_length = full_text.apply(lambda x: len(x.split())).max()\n",
        "max_length"
      ],
      "execution_count": null,
      "outputs": [
        {
          "output_type": "execute_result",
          "data": {
            "text/plain": [
              "1830"
            ]
          },
          "metadata": {
            "tags": []
          },
          "execution_count": 8
        }
      ]
    },
    {
      "cell_type": "code",
      "metadata": {
        "colab": {
          "base_uri": "https://localhost:8080/"
        },
        "id": "oDpCHDXuN4sW",
        "outputId": "e79aceb1-5d0b-4c5f-8131-301fde038caa"
      },
      "source": [
        "train.columns"
      ],
      "execution_count": null,
      "outputs": [
        {
          "output_type": "execute_result",
          "data": {
            "text/plain": [
              "Index(['review', 'sentiment_negative', 'sentiment_positive'], dtype='object')"
            ]
          },
          "metadata": {
            "tags": []
          },
          "execution_count": 9
        }
      ]
    },
    {
      "cell_type": "code",
      "metadata": {
        "id": "fGzy3yPHyVI3"
      },
      "source": [
        "GE_taxonomy= ['sentiment_negative', 'sentiment_positive']"
      ],
      "execution_count": null,
      "outputs": []
    },
    {
      "cell_type": "code",
      "metadata": {
        "colab": {
          "base_uri": "https://localhost:8080/",
          "height": 422
        },
        "id": "1PKrQTFSg6tg",
        "outputId": "7b8afc3a-ff00-43cd-96dc-a39bd43096ad"
      },
      "source": [
        "train['review'] = train['review'].str.replace(r'[^a-zA-Z ]+', '')\n",
        "train"
      ],
      "execution_count": null,
      "outputs": [
        {
          "output_type": "execute_result",
          "data": {
            "text/html": [
              "<div>\n",
              "<style scoped>\n",
              "    .dataframe tbody tr th:only-of-type {\n",
              "        vertical-align: middle;\n",
              "    }\n",
              "\n",
              "    .dataframe tbody tr th {\n",
              "        vertical-align: top;\n",
              "    }\n",
              "\n",
              "    .dataframe thead th {\n",
              "        text-align: right;\n",
              "    }\n",
              "</style>\n",
              "<table border=\"1\" class=\"dataframe\">\n",
              "  <thead>\n",
              "    <tr style=\"text-align: right;\">\n",
              "      <th></th>\n",
              "      <th>review</th>\n",
              "      <th>sentiment_negative</th>\n",
              "      <th>sentiment_positive</th>\n",
              "    </tr>\n",
              "  </thead>\n",
              "  <tbody>\n",
              "    <tr>\n",
              "      <th>0</th>\n",
              "      <td>One of the other reviewers has mentioned that ...</td>\n",
              "      <td>0</td>\n",
              "      <td>1</td>\n",
              "    </tr>\n",
              "    <tr>\n",
              "      <th>1</th>\n",
              "      <td>A wonderful little production br br The filmin...</td>\n",
              "      <td>0</td>\n",
              "      <td>1</td>\n",
              "    </tr>\n",
              "    <tr>\n",
              "      <th>2</th>\n",
              "      <td>I thought this was a wonderful way to spend ti...</td>\n",
              "      <td>0</td>\n",
              "      <td>1</td>\n",
              "    </tr>\n",
              "    <tr>\n",
              "      <th>3</th>\n",
              "      <td>Basically theres a family where a little boy J...</td>\n",
              "      <td>1</td>\n",
              "      <td>0</td>\n",
              "    </tr>\n",
              "    <tr>\n",
              "      <th>4</th>\n",
              "      <td>Petter Matteis Love in the Time of Money is a ...</td>\n",
              "      <td>0</td>\n",
              "      <td>1</td>\n",
              "    </tr>\n",
              "    <tr>\n",
              "      <th>...</th>\n",
              "      <td>...</td>\n",
              "      <td>...</td>\n",
              "      <td>...</td>\n",
              "    </tr>\n",
              "    <tr>\n",
              "      <th>4995</th>\n",
              "      <td>An interesting slasher film with multiple susp...</td>\n",
              "      <td>1</td>\n",
              "      <td>0</td>\n",
              "    </tr>\n",
              "    <tr>\n",
              "      <th>4996</th>\n",
              "      <td>i watched this series when it first came out i...</td>\n",
              "      <td>0</td>\n",
              "      <td>1</td>\n",
              "    </tr>\n",
              "    <tr>\n",
              "      <th>4997</th>\n",
              "      <td>Once again Jet Li brings his charismatic prese...</td>\n",
              "      <td>0</td>\n",
              "      <td>1</td>\n",
              "    </tr>\n",
              "    <tr>\n",
              "      <th>4998</th>\n",
              "      <td>I rented this movie after hearing Chris Gore s...</td>\n",
              "      <td>1</td>\n",
              "      <td>0</td>\n",
              "    </tr>\n",
              "    <tr>\n",
              "      <th>4999</th>\n",
              "      <td>This was a big disappointment for me I think t...</td>\n",
              "      <td>1</td>\n",
              "      <td>0</td>\n",
              "    </tr>\n",
              "  </tbody>\n",
              "</table>\n",
              "<p>5000 rows × 3 columns</p>\n",
              "</div>"
            ],
            "text/plain": [
              "                                                 review  ...  sentiment_positive\n",
              "0     One of the other reviewers has mentioned that ...  ...                   1\n",
              "1     A wonderful little production br br The filmin...  ...                   1\n",
              "2     I thought this was a wonderful way to spend ti...  ...                   1\n",
              "3     Basically theres a family where a little boy J...  ...                   0\n",
              "4     Petter Matteis Love in the Time of Money is a ...  ...                   1\n",
              "...                                                 ...  ...                 ...\n",
              "4995  An interesting slasher film with multiple susp...  ...                   0\n",
              "4996  i watched this series when it first came out i...  ...                   1\n",
              "4997  Once again Jet Li brings his charismatic prese...  ...                   1\n",
              "4998  I rented this movie after hearing Chris Gore s...  ...                   0\n",
              "4999  This was a big disappointment for me I think t...  ...                   0\n",
              "\n",
              "[5000 rows x 3 columns]"
            ]
          },
          "metadata": {
            "tags": []
          },
          "execution_count": 11
        }
      ]
    },
    {
      "cell_type": "code",
      "metadata": {
        "colab": {
          "base_uri": "https://localhost:8080/",
          "height": 379,
          "referenced_widgets": [
            "69abade4f32a4472be6f9138351f3470",
            "acc86d688d0b4d908644a9fd7715f8ef",
            "9b6f79a0868c452ab516c6d2a635caef",
            "3e42170eaa6b4c73af94d7ef7ab463cc",
            "549d3633010c41bc80b6a4e0a49d2873",
            "1f674cfe6b14435b85627138abadd0a2",
            "11cbffb8cfda46b18e9635dce881f9a7",
            "949937c7dddc4c95a5e8ca5d5cf7f765",
            "9690db77a8b74f2fafc456a538f9ce0a",
            "6382edcaa85d4b53aa6b3dd3d84faca7",
            "0eae5990b63e47bf9c8b7900aa085fd0",
            "d53589485a024f93b26d42bd12761436",
            "750f2245e3fb4050ad8ea7c7653c597e",
            "145eede66bf841c48bde7e603daca944",
            "ea35fd4d882c4141b5d0a1ec742e1ff5",
            "008950fcbc914082924c4f913b5889ed",
            "b0b92992dace4272a1ed7373e263c16d",
            "cffcbb16af7d4c2c8de889d7798773cd",
            "c8b7a22cf9ce43fdb37983d71e33e703",
            "fc429b6091334a57ae213ab75b6f801c",
            "b3c98cb1a0a64511aecacb3043b9720b",
            "da845d6131fa4e93bb8e11200af0c662",
            "fee10f58bdf2407da37a42fbcc19288d",
            "3d3d1d2204fc43e9a5929761a837d7c6",
            "b97a01db837a42a3b3ebbfba15f2de4e",
            "131feaa67faa4022966588e7be7aae3d",
            "dee19ec84df0493abb8eaba69676cb17",
            "5c3e25005f82433d850d76104e89c34b",
            "0f495dd1075b468aa4c3dc9508220350",
            "3296765659a24033ba5f8e4959dec10e",
            "79086b0d95e1495aa695887ceadfd8e9",
            "619982b7048e49e4b546f97f8de21f9d",
            "6aca259cdd32434dbc37322d5977bf50",
            "64a3f6c019c541c0a4a9b59d274096c0",
            "0e15c32c428d45ed864ea649149630c0",
            "d1490ea15d6f4f96acb1e749a4c32f6f",
            "d934f6f1d3c04825a4541ddb7a08608b",
            "4808c731a2fc498eba4a27f96ba0b7a7",
            "be5a86d54ee04167bc10adda436a8ccc",
            "093cc5236b184833baf8f6f90a9d63c0"
          ]
        },
        "id": "VjCEuzG1f2z_",
        "outputId": "ae2048f1-ab63-4a85-d2e5-ba928af63cc6"
      },
      "source": [
        "#Importing BERT pre-trained model and tokenizer\n",
        "model_name = 'bert-base-uncased'\n",
        "config = BertConfig.from_pretrained(model_name, output_hidden_states=False)\n",
        "tokenizer = BertTokenizerFast.from_pretrained(pretrained_model_name_or_path = model_name, config = config)\n",
        "transformer_model = TFBertModel.from_pretrained(model_name, config = config)"
      ],
      "execution_count": null,
      "outputs": [
        {
          "output_type": "display_data",
          "data": {
            "application/vnd.jupyter.widget-view+json": {
              "model_id": "69abade4f32a4472be6f9138351f3470",
              "version_minor": 0,
              "version_major": 2
            },
            "text/plain": [
              "HBox(children=(FloatProgress(value=0.0, description='Downloading', max=570.0, style=ProgressStyle(description_…"
            ]
          },
          "metadata": {
            "tags": []
          }
        },
        {
          "output_type": "stream",
          "text": [
            "\n"
          ],
          "name": "stdout"
        },
        {
          "output_type": "display_data",
          "data": {
            "application/vnd.jupyter.widget-view+json": {
              "model_id": "9690db77a8b74f2fafc456a538f9ce0a",
              "version_minor": 0,
              "version_major": 2
            },
            "text/plain": [
              "HBox(children=(FloatProgress(value=0.0, description='Downloading', max=231508.0, style=ProgressStyle(descripti…"
            ]
          },
          "metadata": {
            "tags": []
          }
        },
        {
          "output_type": "stream",
          "text": [
            "\n"
          ],
          "name": "stdout"
        },
        {
          "output_type": "display_data",
          "data": {
            "application/vnd.jupyter.widget-view+json": {
              "model_id": "b0b92992dace4272a1ed7373e263c16d",
              "version_minor": 0,
              "version_major": 2
            },
            "text/plain": [
              "HBox(children=(FloatProgress(value=0.0, description='Downloading', max=466062.0, style=ProgressStyle(descripti…"
            ]
          },
          "metadata": {
            "tags": []
          }
        },
        {
          "output_type": "stream",
          "text": [
            "\n"
          ],
          "name": "stdout"
        },
        {
          "output_type": "display_data",
          "data": {
            "application/vnd.jupyter.widget-view+json": {
              "model_id": "b97a01db837a42a3b3ebbfba15f2de4e",
              "version_minor": 0,
              "version_major": 2
            },
            "text/plain": [
              "HBox(children=(FloatProgress(value=0.0, description='Downloading', max=28.0, style=ProgressStyle(description_w…"
            ]
          },
          "metadata": {
            "tags": []
          }
        },
        {
          "output_type": "stream",
          "text": [
            "\n"
          ],
          "name": "stdout"
        },
        {
          "output_type": "display_data",
          "data": {
            "application/vnd.jupyter.widget-view+json": {
              "model_id": "6aca259cdd32434dbc37322d5977bf50",
              "version_minor": 0,
              "version_major": 2
            },
            "text/plain": [
              "HBox(children=(FloatProgress(value=0.0, description='Downloading', max=536063208.0, style=ProgressStyle(descri…"
            ]
          },
          "metadata": {
            "tags": []
          }
        },
        {
          "output_type": "stream",
          "text": [
            "\n"
          ],
          "name": "stdout"
        },
        {
          "output_type": "stream",
          "text": [
            "Some layers from the model checkpoint at bert-base-uncased were not used when initializing TFBertModel: ['nsp___cls', 'mlm___cls']\n",
            "- This IS expected if you are initializing TFBertModel from the checkpoint of a model trained on another task or with another architecture (e.g. initializing a BertForSequenceClassification model from a BertForPreTraining model).\n",
            "- This IS NOT expected if you are initializing TFBertModel from the checkpoint of a model that you expect to be exactly identical (initializing a BertForSequenceClassification model from a BertForSequenceClassification model).\n",
            "All the layers of TFBertModel were initialized from the model checkpoint at bert-base-uncased.\n",
            "If your task is similar to the task the model of the checkpoint was trained on, you can already use TFBertModel for predictions without further training.\n"
          ],
          "name": "stderr"
        }
      ]
    },
    {
      "cell_type": "code",
      "metadata": {
        "id": "unFs-gf2gC_O"
      },
      "source": [
        "# function for creating BERT based model\n",
        "def create_model(nb_labels):\n",
        "\n",
        "  # Load the MainLayer\n",
        "  bert = transformer_model.layers[0]\n",
        "\n",
        "  # Build the model inputs\n",
        "  input_ids = Input(shape=(max_length,), name='input_ids', dtype='int32')\n",
        "  attention_mask = Input(shape=(max_length,), name='attention_mask', dtype='int32')\n",
        "  token_ids = Input(shape=(max_length,), name='token_ids', dtype='int32')\n",
        "  inputs = {'input_ids': input_ids, 'attention_mask': attention_mask, 'token_ids': token_ids}\n",
        "\n",
        "  # Load the Transformers BERT model as a layer in a Keras model\n",
        "  bert_model = bert(inputs)[1]\n",
        "  dropout = Dropout(config.hidden_dropout_prob, name='pooled_output')\n",
        "  pooled_output = dropout(bert_model, training=False)\n",
        "\n",
        "  # Then build the model output\n",
        "  emotion = Dense(units=nb_labels, activation=\"softmax\", kernel_initializer=TruncatedNormal(stddev=config.initializer_range), name='emotion')(pooled_output)\n",
        "  outputs = emotion\n",
        "\n",
        "  # And combine it all in a model object\n",
        "  model = Model(inputs=inputs, outputs=outputs, name='BERT_MultiLabel')\n",
        "\n",
        "  return model"
      ],
      "execution_count": null,
      "outputs": []
    },
    {
      "cell_type": "code",
      "metadata": {
        "colab": {
          "base_uri": "https://localhost:8080/"
        },
        "id": "zZp5BpL9gMVQ",
        "outputId": "998d0a3a-d5de-409e-fea6-0032531a0675"
      },
      "source": [
        "# Creating a model instance\n",
        "model = create_model(2)\n",
        "\n",
        "# Take a look at the model\n",
        "model.summary"
      ],
      "execution_count": null,
      "outputs": [
        {
          "output_type": "stream",
          "text": [
            "WARNING:tensorflow:From /usr/local/lib/python3.7/dist-packages/tensorflow/python/ops/array_ops.py:5049: calling gather (from tensorflow.python.ops.array_ops) with validate_indices is deprecated and will be removed in a future version.\n",
            "Instructions for updating:\n",
            "The `validate_indices` argument has no effect. Indices are always validated on CPU and never validated on GPU.\n"
          ],
          "name": "stdout"
        },
        {
          "output_type": "execute_result",
          "data": {
            "text/plain": [
              "<bound method Model.summary of <tensorflow.python.keras.engine.functional.Functional object at 0x7f11c63f7350>>"
            ]
          },
          "metadata": {
            "tags": []
          },
          "execution_count": 14
        }
      ]
    },
    {
      "cell_type": "code",
      "metadata": {
        "id": "7svkfNFTnzNr"
      },
      "source": [
        "# Creating train, validation and test variables\n",
        "X_train = train['review']\n",
        "y_train = train.loc[:, GE_taxonomy].values.astype(float)\n",
        "\n",
        "X_val = val['review']\n",
        "y_val  = val.loc[:, GE_taxonomy].values.astype(float)\n",
        "\n",
        "X_test = test['review']\n",
        "y_test = test.loc[:, GE_taxonomy].values.astype(float)"
      ],
      "execution_count": null,
      "outputs": []
    },
    {
      "cell_type": "code",
      "metadata": {
        "id": "b-_ugCFC0QN2"
      },
      "source": [
        "# Tokenizing train data\n",
        "train_token = tokenizer(\n",
        "    text = X_train.to_list(),\n",
        "    add_special_tokens = True,\n",
        "    max_length = max_length,\n",
        "    truncation = True,\n",
        "    padding = 'max_length', \n",
        "    return_tensors = 'tf',\n",
        "    return_token_type_ids = True,\n",
        "    return_attention_mask = True,\n",
        "    verbose = True)\n",
        "\n",
        "# Tokenizing valisation data\n",
        "val_token = tokenizer(\n",
        "    text = X_val.to_list(),\n",
        "    add_special_tokens = True,\n",
        "    max_length = max_length,\n",
        "    truncation = True,\n",
        "    padding = 'max_length', \n",
        "    return_tensors = 'tf',\n",
        "    return_token_type_ids = True,\n",
        "    return_attention_mask = True,\n",
        "    verbose = True)\n",
        "\n",
        "# Tokenizing test data\n",
        "test_token = tokenizer(\n",
        "    text = X_test.to_list(),\n",
        "    add_special_tokens = True,\n",
        "    max_length = max_length,\n",
        "    truncation = True,\n",
        "    padding = 'max_length', \n",
        "    return_tensors = 'tf',\n",
        "    return_token_type_ids = True,\n",
        "    return_attention_mask = True,\n",
        "    verbose = True)"
      ],
      "execution_count": null,
      "outputs": []
    },
    {
      "cell_type": "code",
      "metadata": {
        "id": "tfq9FyrO1rTD"
      },
      "source": [
        "# Creating BERT compatible inputs with Input Ids, attention masks and token Ids \n",
        "train = {'input_ids': train_token['input_ids'], 'attention_mask': train_token['attention_mask'],'token_ids': train_token['token_type_ids']}\n",
        "val = {'input_ids': val_token['input_ids'], 'attention_mask': val_token['attention_mask'],'token_ids': val_token['token_type_ids']}\n",
        "test = {'input_ids': test_token['input_ids'], 'attention_mask': test_token['attention_mask'],'token_ids': test_token['token_type_ids']}"
      ],
      "execution_count": null,
      "outputs": []
    },
    {
      "cell_type": "code",
      "metadata": {
        "id": "lcaDUOwU2rKh"
      },
      "source": [
        "# Creating TF tensors\n",
        "train_tensor = tf.data.Dataset.from_tensor_slices((train, y_train)).shuffle(len(train)).batch(32)\n",
        "val_tensor = tf.data.Dataset.from_tensor_slices((val, y_val)).shuffle(len(val)).batch(32)\n",
        "test_tensor = tf.data.Dataset.from_tensor_slices((test, y_test)).shuffle(len(test)).batch(32)"
      ],
      "execution_count": null,
      "outputs": []
    },
    {
      "cell_type": "code",
      "metadata": {
        "id": "SRuqrzgu2wFJ"
      },
      "source": [
        "# Function for calculating multilabel class weights\n",
        "def calculating_class_weights(y_true):\n",
        "    number_dim = np.shape(y_true)[1]\n",
        "    weights = np.empty([number_dim, 2])\n",
        "    for i in range(number_dim):\n",
        "        weights[i] = compute_class_weight('balanced', [0.,1.], y_true[:, i])\n",
        "    return weights\n",
        "\n",
        "class_weights = calculating_class_weights(y_train)\n"
      ],
      "execution_count": null,
      "outputs": []
    },
    {
      "cell_type": "code",
      "metadata": {
        "id": "fkpnyPKJ2yrM"
      },
      "source": [
        "# Custom loss function for multilabel\n",
        "def get_weighted_loss(weights):\n",
        "    def weighted_loss(y_true, y_pred):\n",
        "        return K.mean((weights[:,0]**(1-y_true))*(weights[:,1]**(y_true))*K.binary_crossentropy(y_true, y_pred), axis=-1)\n",
        "    return weighted_loss"
      ],
      "execution_count": null,
      "outputs": []
    },
    {
      "cell_type": "code",
      "metadata": {
        "id": "DwN_7bwBdHnu"
      },
      "source": [
        "from keras.callbacks import ModelCheckpoint"
      ],
      "execution_count": null,
      "outputs": []
    },
    {
      "cell_type": "code",
      "metadata": {
        "id": "M16b3XL2dR70"
      },
      "source": [
        "filepath = \"/content/weights-improvement-{epoch:02d}-{val_accuracy:.2f}.h5\"\n",
        "checkpoint = ModelCheckpoint(filepath,monitor=\"val_loss\",verbose=1,save_best_only=True,mode=\"max\")\n",
        "callback_lists = [checkpoint]"
      ],
      "execution_count": null,
      "outputs": []
    },
    {
      "cell_type": "code",
      "metadata": {
        "id": "uPkCa8ao22ND",
        "colab": {
          "base_uri": "https://localhost:8080/",
          "height": 649
        },
        "outputId": "1d17582b-19d1-444f-b144-ae32e50a3ab8"
      },
      "source": [
        "# Set an optimizer\n",
        "optimizer = Adam(\n",
        "    learning_rate=3.e-05,\n",
        "    )\n",
        "\n",
        "# Set loss\n",
        "loss = get_weighted_loss(class_weights)\n",
        "\n",
        "# Compile the model\n",
        "\n",
        "model.compile(loss=loss, optimizer=optimizer, metrics=['accuracy'])\n",
        "\n",
        "# train the model\n",
        "history = model.fit(train_tensor, \n",
        "                    epochs=25, \n",
        "                    validation_data=val_tensor,\n",
        "                    callbacks = callback_lists)"
      ],
      "execution_count": null,
      "outputs": [
        {
          "output_type": "stream",
          "text": [
            "Epoch 1/25\n"
          ],
          "name": "stdout"
        },
        {
          "output_type": "error",
          "ename": "ResourceExhaustedError",
          "evalue": "ignored",
          "traceback": [
            "\u001b[0;31m---------------------------------------------------------------------------\u001b[0m",
            "\u001b[0;31mResourceExhaustedError\u001b[0m                    Traceback (most recent call last)",
            "\u001b[0;32m<ipython-input-23-e05a99ded39e>\u001b[0m in \u001b[0;36m<module>\u001b[0;34m()\u001b[0m\n\u001b[1;32m     15\u001b[0m                     \u001b[0mepochs\u001b[0m\u001b[0;34m=\u001b[0m\u001b[0;36m25\u001b[0m\u001b[0;34m,\u001b[0m\u001b[0;34m\u001b[0m\u001b[0;34m\u001b[0m\u001b[0m\n\u001b[1;32m     16\u001b[0m                     \u001b[0mvalidation_data\u001b[0m\u001b[0;34m=\u001b[0m\u001b[0mval_tensor\u001b[0m\u001b[0;34m,\u001b[0m\u001b[0;34m\u001b[0m\u001b[0;34m\u001b[0m\u001b[0m\n\u001b[0;32m---> 17\u001b[0;31m                     callbacks = callback_lists)\n\u001b[0m",
            "\u001b[0;32m/usr/local/lib/python3.7/dist-packages/tensorflow/python/keras/engine/training.py\u001b[0m in \u001b[0;36mfit\u001b[0;34m(self, x, y, batch_size, epochs, verbose, callbacks, validation_split, validation_data, shuffle, class_weight, sample_weight, initial_epoch, steps_per_epoch, validation_steps, validation_batch_size, validation_freq, max_queue_size, workers, use_multiprocessing)\u001b[0m\n\u001b[1;32m   1181\u001b[0m                 _r=1):\n\u001b[1;32m   1182\u001b[0m               \u001b[0mcallbacks\u001b[0m\u001b[0;34m.\u001b[0m\u001b[0mon_train_batch_begin\u001b[0m\u001b[0;34m(\u001b[0m\u001b[0mstep\u001b[0m\u001b[0;34m)\u001b[0m\u001b[0;34m\u001b[0m\u001b[0;34m\u001b[0m\u001b[0m\n\u001b[0;32m-> 1183\u001b[0;31m               \u001b[0mtmp_logs\u001b[0m \u001b[0;34m=\u001b[0m \u001b[0mself\u001b[0m\u001b[0;34m.\u001b[0m\u001b[0mtrain_function\u001b[0m\u001b[0;34m(\u001b[0m\u001b[0miterator\u001b[0m\u001b[0;34m)\u001b[0m\u001b[0;34m\u001b[0m\u001b[0;34m\u001b[0m\u001b[0m\n\u001b[0m\u001b[1;32m   1184\u001b[0m               \u001b[0;32mif\u001b[0m \u001b[0mdata_handler\u001b[0m\u001b[0;34m.\u001b[0m\u001b[0mshould_sync\u001b[0m\u001b[0;34m:\u001b[0m\u001b[0;34m\u001b[0m\u001b[0;34m\u001b[0m\u001b[0m\n\u001b[1;32m   1185\u001b[0m                 \u001b[0mcontext\u001b[0m\u001b[0;34m.\u001b[0m\u001b[0masync_wait\u001b[0m\u001b[0;34m(\u001b[0m\u001b[0;34m)\u001b[0m\u001b[0;34m\u001b[0m\u001b[0;34m\u001b[0m\u001b[0m\n",
            "\u001b[0;32m/usr/local/lib/python3.7/dist-packages/tensorflow/python/eager/def_function.py\u001b[0m in \u001b[0;36m__call__\u001b[0;34m(self, *args, **kwds)\u001b[0m\n\u001b[1;32m    887\u001b[0m \u001b[0;34m\u001b[0m\u001b[0m\n\u001b[1;32m    888\u001b[0m       \u001b[0;32mwith\u001b[0m \u001b[0mOptionalXlaContext\u001b[0m\u001b[0;34m(\u001b[0m\u001b[0mself\u001b[0m\u001b[0;34m.\u001b[0m\u001b[0m_jit_compile\u001b[0m\u001b[0;34m)\u001b[0m\u001b[0;34m:\u001b[0m\u001b[0;34m\u001b[0m\u001b[0;34m\u001b[0m\u001b[0m\n\u001b[0;32m--> 889\u001b[0;31m         \u001b[0mresult\u001b[0m \u001b[0;34m=\u001b[0m \u001b[0mself\u001b[0m\u001b[0;34m.\u001b[0m\u001b[0m_call\u001b[0m\u001b[0;34m(\u001b[0m\u001b[0;34m*\u001b[0m\u001b[0margs\u001b[0m\u001b[0;34m,\u001b[0m \u001b[0;34m**\u001b[0m\u001b[0mkwds\u001b[0m\u001b[0;34m)\u001b[0m\u001b[0;34m\u001b[0m\u001b[0;34m\u001b[0m\u001b[0m\n\u001b[0m\u001b[1;32m    890\u001b[0m \u001b[0;34m\u001b[0m\u001b[0m\n\u001b[1;32m    891\u001b[0m       \u001b[0mnew_tracing_count\u001b[0m \u001b[0;34m=\u001b[0m \u001b[0mself\u001b[0m\u001b[0;34m.\u001b[0m\u001b[0mexperimental_get_tracing_count\u001b[0m\u001b[0;34m(\u001b[0m\u001b[0;34m)\u001b[0m\u001b[0;34m\u001b[0m\u001b[0;34m\u001b[0m\u001b[0m\n",
            "\u001b[0;32m/usr/local/lib/python3.7/dist-packages/tensorflow/python/eager/def_function.py\u001b[0m in \u001b[0;36m_call\u001b[0;34m(self, *args, **kwds)\u001b[0m\n\u001b[1;32m    948\u001b[0m         \u001b[0;31m# Lifting succeeded, so variables are initialized and we can run the\u001b[0m\u001b[0;34m\u001b[0m\u001b[0;34m\u001b[0m\u001b[0;34m\u001b[0m\u001b[0m\n\u001b[1;32m    949\u001b[0m         \u001b[0;31m# stateless function.\u001b[0m\u001b[0;34m\u001b[0m\u001b[0;34m\u001b[0m\u001b[0;34m\u001b[0m\u001b[0m\n\u001b[0;32m--> 950\u001b[0;31m         \u001b[0;32mreturn\u001b[0m \u001b[0mself\u001b[0m\u001b[0;34m.\u001b[0m\u001b[0m_stateless_fn\u001b[0m\u001b[0;34m(\u001b[0m\u001b[0;34m*\u001b[0m\u001b[0margs\u001b[0m\u001b[0;34m,\u001b[0m \u001b[0;34m**\u001b[0m\u001b[0mkwds\u001b[0m\u001b[0;34m)\u001b[0m\u001b[0;34m\u001b[0m\u001b[0;34m\u001b[0m\u001b[0m\n\u001b[0m\u001b[1;32m    951\u001b[0m     \u001b[0;32melse\u001b[0m\u001b[0;34m:\u001b[0m\u001b[0;34m\u001b[0m\u001b[0;34m\u001b[0m\u001b[0m\n\u001b[1;32m    952\u001b[0m       \u001b[0m_\u001b[0m\u001b[0;34m,\u001b[0m \u001b[0m_\u001b[0m\u001b[0;34m,\u001b[0m \u001b[0m_\u001b[0m\u001b[0;34m,\u001b[0m \u001b[0mfiltered_flat_args\u001b[0m \u001b[0;34m=\u001b[0m\u001b[0;31m \u001b[0m\u001b[0;31m\\\u001b[0m\u001b[0;34m\u001b[0m\u001b[0;34m\u001b[0m\u001b[0m\n",
            "\u001b[0;32m/usr/local/lib/python3.7/dist-packages/tensorflow/python/eager/function.py\u001b[0m in \u001b[0;36m__call__\u001b[0;34m(self, *args, **kwargs)\u001b[0m\n\u001b[1;32m   3022\u001b[0m        filtered_flat_args) = self._maybe_define_function(args, kwargs)\n\u001b[1;32m   3023\u001b[0m     return graph_function._call_flat(\n\u001b[0;32m-> 3024\u001b[0;31m         filtered_flat_args, captured_inputs=graph_function.captured_inputs)  # pylint: disable=protected-access\n\u001b[0m\u001b[1;32m   3025\u001b[0m \u001b[0;34m\u001b[0m\u001b[0m\n\u001b[1;32m   3026\u001b[0m   \u001b[0;34m@\u001b[0m\u001b[0mproperty\u001b[0m\u001b[0;34m\u001b[0m\u001b[0;34m\u001b[0m\u001b[0m\n",
            "\u001b[0;32m/usr/local/lib/python3.7/dist-packages/tensorflow/python/eager/function.py\u001b[0m in \u001b[0;36m_call_flat\u001b[0;34m(self, args, captured_inputs, cancellation_manager)\u001b[0m\n\u001b[1;32m   1959\u001b[0m       \u001b[0;31m# No tape is watching; skip to running the function.\u001b[0m\u001b[0;34m\u001b[0m\u001b[0;34m\u001b[0m\u001b[0;34m\u001b[0m\u001b[0m\n\u001b[1;32m   1960\u001b[0m       return self._build_call_outputs(self._inference_function.call(\n\u001b[0;32m-> 1961\u001b[0;31m           ctx, args, cancellation_manager=cancellation_manager))\n\u001b[0m\u001b[1;32m   1962\u001b[0m     forward_backward = self._select_forward_and_backward_functions(\n\u001b[1;32m   1963\u001b[0m         \u001b[0margs\u001b[0m\u001b[0;34m,\u001b[0m\u001b[0;34m\u001b[0m\u001b[0;34m\u001b[0m\u001b[0m\n",
            "\u001b[0;32m/usr/local/lib/python3.7/dist-packages/tensorflow/python/eager/function.py\u001b[0m in \u001b[0;36mcall\u001b[0;34m(self, ctx, args, cancellation_manager)\u001b[0m\n\u001b[1;32m    594\u001b[0m               \u001b[0minputs\u001b[0m\u001b[0;34m=\u001b[0m\u001b[0margs\u001b[0m\u001b[0;34m,\u001b[0m\u001b[0;34m\u001b[0m\u001b[0;34m\u001b[0m\u001b[0m\n\u001b[1;32m    595\u001b[0m               \u001b[0mattrs\u001b[0m\u001b[0;34m=\u001b[0m\u001b[0mattrs\u001b[0m\u001b[0;34m,\u001b[0m\u001b[0;34m\u001b[0m\u001b[0;34m\u001b[0m\u001b[0m\n\u001b[0;32m--> 596\u001b[0;31m               ctx=ctx)\n\u001b[0m\u001b[1;32m    597\u001b[0m         \u001b[0;32melse\u001b[0m\u001b[0;34m:\u001b[0m\u001b[0;34m\u001b[0m\u001b[0;34m\u001b[0m\u001b[0m\n\u001b[1;32m    598\u001b[0m           outputs = execute.execute_with_cancellation(\n",
            "\u001b[0;32m/usr/local/lib/python3.7/dist-packages/tensorflow/python/eager/execute.py\u001b[0m in \u001b[0;36mquick_execute\u001b[0;34m(op_name, num_outputs, inputs, attrs, ctx, name)\u001b[0m\n\u001b[1;32m     58\u001b[0m     \u001b[0mctx\u001b[0m\u001b[0;34m.\u001b[0m\u001b[0mensure_initialized\u001b[0m\u001b[0;34m(\u001b[0m\u001b[0;34m)\u001b[0m\u001b[0;34m\u001b[0m\u001b[0;34m\u001b[0m\u001b[0m\n\u001b[1;32m     59\u001b[0m     tensors = pywrap_tfe.TFE_Py_Execute(ctx._handle, device_name, op_name,\n\u001b[0;32m---> 60\u001b[0;31m                                         inputs, attrs, num_outputs)\n\u001b[0m\u001b[1;32m     61\u001b[0m   \u001b[0;32mexcept\u001b[0m \u001b[0mcore\u001b[0m\u001b[0;34m.\u001b[0m\u001b[0m_NotOkStatusException\u001b[0m \u001b[0;32mas\u001b[0m \u001b[0me\u001b[0m\u001b[0;34m:\u001b[0m\u001b[0;34m\u001b[0m\u001b[0;34m\u001b[0m\u001b[0m\n\u001b[1;32m     62\u001b[0m     \u001b[0;32mif\u001b[0m \u001b[0mname\u001b[0m \u001b[0;32mis\u001b[0m \u001b[0;32mnot\u001b[0m \u001b[0;32mNone\u001b[0m\u001b[0;34m:\u001b[0m\u001b[0;34m\u001b[0m\u001b[0;34m\u001b[0m\u001b[0m\n",
            "\u001b[0;31mResourceExhaustedError\u001b[0m:  OOM when allocating tensor with shape[32,12,1830,1830] and type float on /job:localhost/replica:0/task:0/device:GPU:0 by allocator GPU_0_bfc\n\t [[node BERT_MultiLabel/bert/encoder/layer_._0/attention/self/Softmax (defined at /usr/local/lib/python3.7/dist-packages/transformers/models/bert/modeling_tf_bert.py:268) ]]\nHint: If you want to see a list of allocated tensors when OOM happens, add report_tensor_allocations_upon_oom to RunOptions for current allocation info.\n [Op:__inference_train_function_27514]\n\nErrors may have originated from an input operation.\nInput Source operations connected to node BERT_MultiLabel/bert/encoder/layer_._0/attention/self/Softmax:\n BERT_MultiLabel/bert/encoder/layer_._0/attention/self/Add (defined at /usr/local/lib/python3.7/dist-packages/transformers/models/bert/modeling_tf_bert.py:265)\n\nFunction call stack:\ntrain_function\n"
          ]
        }
      ]
    },
    {
      "cell_type": "code",
      "metadata": {
        "id": "VCxygBKX243n"
      },
      "source": [
        "# Save model weights\n",
        "model.save_weights('/content/bert-weights_senti_1.h5')"
      ],
      "execution_count": null,
      "outputs": []
    },
    {
      "cell_type": "code",
      "metadata": {
        "id": "yP_AV6IJD1bw"
      },
      "source": [
        "y_pred_proba = model.predict(test)"
      ],
      "execution_count": null,
      "outputs": []
    },
    {
      "cell_type": "code",
      "metadata": {
        "id": "T09jRo-1mmfY"
      },
      "source": [
        "len = len(y_pred_proba)"
      ],
      "execution_count": null,
      "outputs": []
    },
    {
      "cell_type": "code",
      "metadata": {
        "id": "FwIHPs37mimO"
      },
      "source": [
        "list = []\n",
        "for i in range(len):\n",
        "  samples_pred_proba = y_pred_proba[i]\n",
        "  print(samples_pred_proba)\n",
        "  max = samples_pred_proba.max()\n",
        "  result = np.where(samples_pred_proba == max )\n",
        "  list.append(GE_taxonomy[result[0][0]])\n",
        "    #print(GE_taxonomy[result])\n"
      ],
      "execution_count": null,
      "outputs": []
    },
    {
      "cell_type": "code",
      "metadata": {
        "id": "IO_-mNavmrZZ"
      },
      "source": [
        "test_GE['predictions'] = list"
      ],
      "execution_count": null,
      "outputs": []
    },
    {
      "cell_type": "code",
      "metadata": {
        "id": "iXw6HPO6mw0e"
      },
      "source": [
        "test_GE.replace([\"sentiment_anger\",\"anger\"],0,inplace=True)\n",
        "test_GE.replace([\"sentiment_fear\",\"fear\"],1,inplace=True)\n",
        "test_GE.replace([\"sentiment_joy\",\"joy\"],2,inplace=True)\n",
        "test_GE.replace([\"sentiment_love\",\"love\"],3,inplace=True)\n",
        "test_GE.replace([\"sentiment_sadness\",\"sadness\"],4,inplace=True)\n",
        "test_GE.replace([\"sentiment_surprise\",\"surprise\"],5,inplace=True)"
      ],
      "execution_count": null,
      "outputs": []
    },
    {
      "cell_type": "code",
      "metadata": {
        "id": "YLj8_LyEmzNI"
      },
      "source": [
        "true = test_GE['sentiment'].tolist()\n",
        "pred = test_GE['predictions'].tolist()"
      ],
      "execution_count": null,
      "outputs": []
    },
    {
      "cell_type": "code",
      "metadata": {
        "id": "IpyF4eEDm1Gj"
      },
      "source": [
        "from sklearn.metrics import accuracy_score\n",
        "accuracy_score(true, pred)"
      ],
      "execution_count": null,
      "outputs": []
    },
    {
      "cell_type": "code",
      "metadata": {
        "id": "g13KOwhhLp4i"
      },
      "source": [
        "# Retrieving initial preprocessings\n",
        "def preprocess_corpus(x):\n",
        "    \n",
        "    # Adding a space between words and punctation\n",
        "    x = re.sub( r'([a-zA-Z\\[\\]])([,;.!?])', r'\\1 \\2', x)\n",
        "    x = re.sub( r'([,;.!?])([a-zA-Z\\[\\]])', r'\\1 \\2', x)\n",
        "\n",
        "    # Demojize\n",
        "    x = emoji.demojize(x)\n",
        "\n",
        "    # Expand contraction\n",
        "    x = contractions.fix(x)\n",
        "\n",
        "    # Lower\n",
        "    x = x.lower()\n",
        "\n",
        "    #correct some acronyms/typos/abbreviations  \n",
        "    x = re.sub(r\"lmao\", \"laughing my ass off\", x)  \n",
        "    x = re.sub(r\"amirite\", \"am i right\", x)\n",
        "    x = re.sub(r\"\\b(tho)\\b\", \"though\", x)\n",
        "    x = re.sub(r\"\\b(ikr)\\b\", \"i know right\", x)\n",
        "    x = re.sub(r\"\\b(ya|u)\\b\", \"you\", x)\n",
        "    x = re.sub(r\"\\b(eu)\\b\", \"europe\", x)\n",
        "    x = re.sub(r\"\\b(da)\\b\", \"the\", x)\n",
        "    x = re.sub(r\"\\b(dat)\\b\", \"that\", x)\n",
        "    x = re.sub(r\"\\b(dats)\\b\", \"that is\", x)\n",
        "    x = re.sub(r\"\\b(cuz)\\b\", \"because\", x)\n",
        "    x = re.sub(r\"\\b(fkn)\\b\", \"fucking\", x)\n",
        "    x = re.sub(r\"\\b(tbh)\\b\", \"to be honest\", x)\n",
        "    x = re.sub(r\"\\b(tbf)\\b\", \"to be fair\", x)\n",
        "    x = re.sub(r\"faux pas\", \"mistake\", x)\n",
        "    x = re.sub(r\"\\b(btw)\\b\", \"by the way\", x)\n",
        "    x = re.sub(r\"\\b(bs)\\b\", \"bullshit\", x)\n",
        "    x = re.sub(r\"\\b(kinda)\\b\", \"kind of\", x)\n",
        "    x = re.sub(r\"\\b(bruh)\\b\", \"bro\", x)\n",
        "    x = re.sub(r\"\\b(w/e)\\b\", \"whatever\", x)\n",
        "    x = re.sub(r\"\\b(w/)\\b\", \"with\", x)\n",
        "    x = re.sub(r\"\\b(w/o)\\b\", \"without\", x)\n",
        "    x = re.sub(r\"\\b(doj)\\b\", \"department of justice\", x)\n",
        "\n",
        "    # replace some words with multiple occurences of a letter, example \"coooool\" turns into --> cool\n",
        "    x = re.sub(r\"\\b(j+e{2,}z+e*)\\b\", \"jeez\", x)\n",
        "    x = re.sub(r\"\\b(co+l+)\\b\", \"cool\", x)\n",
        "    x = re.sub(r\"\\b(g+o+a+l+)\\b\", \"goal\", x)\n",
        "    x = re.sub(r\"\\b(s+h+i+t+)\\b\", \"shit\", x)\n",
        "    x = re.sub(r\"\\b(o+m+g+)\\b\", \"omg\", x)\n",
        "    x = re.sub(r\"\\b(w+t+f+)\\b\", \"wtf\", x)\n",
        "    x = re.sub(r\"\\b(w+h+a+t+)\\b\", \"what\", x)\n",
        "    x = re.sub(r\"\\b(y+e+y+|y+a+y+|y+e+a+h+)\\b\", \"yeah\", x)\n",
        "    x = re.sub(r\"\\b(w+o+w+)\\b\", \"wow\", x)\n",
        "    x = re.sub(r\"\\b(w+h+y+)\\b\", \"why\", x)\n",
        "    x = re.sub(r\"\\b(s+o+)\\b\", \"so\", x)\n",
        "    x = re.sub(r\"\\b(f)\\b\", \"fuck\", x)\n",
        "    x = re.sub(r\"\\b(w+h+o+p+s+)\\b\", \"whoops\", x)\n",
        "    x = re.sub(r\"\\b(ofc)\\b\", \"of course\", x)\n",
        "    x = re.sub(r\"\\b(the us)\\b\", \"usa\", x)\n",
        "    x = re.sub(r\"\\b(gf)\\b\", \"girlfriend\", x)\n",
        "    x = re.sub(r\"\\b(hr)\\b\", \"human ressources\", x)\n",
        "    x = re.sub(r\"\\b(mh)\\b\", \"mental health\", x)\n",
        "    x = re.sub(r\"\\b(idk)\\b\", \"i do not know\", x)\n",
        "    x = re.sub(r\"\\b(gotcha)\\b\", \"i got you\", x)\n",
        "    x = re.sub(r\"\\b(y+e+p+)\\b\", \"yes\", x)\n",
        "    x = re.sub(r\"\\b(a*ha+h[ha]*|a*ha +h[ha]*)\\b\", \"haha\", x)\n",
        "    x = re.sub(r\"\\b(o?l+o+l+[ol]*)\\b\", \"lol\", x)\n",
        "    x = re.sub(r\"\\b(o*ho+h[ho]*|o*ho +h[ho]*)\\b\", \"ohoh\", x)\n",
        "    x = re.sub(r\"\\b(o+h+)\\b\", \"oh\", x)\n",
        "    x = re.sub(r\"\\b(a+h+)\\b\", \"ah\", x)\n",
        "    x = re.sub(r\"\\b(u+h+)\\b\", \"uh\", x)\n",
        "\n",
        "    # Handling emojis\n",
        "    x = re.sub(r\"<3\", \" love \", x)\n",
        "    x = re.sub(r\"xd\", \" smiling_face_with_open_mouth_and_tightly_closed_eyes \", x)\n",
        "    x = re.sub(r\":\\)\", \" smiling_face \", x)\n",
        "    x = re.sub(r\"^_^\", \" smiling_face \", x)\n",
        "    x = re.sub(r\"\\*_\\*\", \" star_struck \", x)\n",
        "    x = re.sub(r\":\\(\", \" frowning_face \", x)\n",
        "    x = re.sub(r\":\\^\\(\", \" frowning_face \", x)\n",
        "    x = re.sub(r\";\\(\", \" frowning_face \", x)\n",
        "    x = re.sub(r\":\\/\",  \" confused_face\", x)\n",
        "    x = re.sub(r\";\\)\",  \" wink\", x)\n",
        "    x = re.sub(r\">__<\",  \" unamused \", x)\n",
        "    x = re.sub(r\"\\b([xo]+x*)\\b\", \" xoxo \", x)\n",
        "    x = re.sub(r\"\\b(n+a+h+)\\b\", \"no\", x)\n",
        "    \n",
        "    # Handling special cases of text\n",
        "    x = re.sub(r\"h a m b e r d e r s\", \"hamberders\", x)\n",
        "    x = re.sub(r\"b e n\", \"ben\", x)\n",
        "    x = re.sub(r\"s a t i r e\", \"satire\", x)\n",
        "    x = re.sub(r\"y i k e s\", \"yikes\", x)\n",
        "    x = re.sub(r\"s p o i l e r\", \"spoiler\", x)\n",
        "    x = re.sub(r\"thankyou\", \"thank you\", x)\n",
        "    x = re.sub(r\"a^r^o^o^o^o^o^o^o^n^d\", \"around\", x)\n",
        "\n",
        "    # Remove special characters and numbers replace by space + remove double space\n",
        "    x = re.sub(r\"\\b([.]{3,})\",\" dots \", x)\n",
        "    x = re.sub(r\"[^A-Za-z!?_]+\",\" \", x)\n",
        "    x = re.sub(r\"\\b([s])\\b *\",\"\", x)\n",
        "    x = re.sub(r\" +\",\" \", x)\n",
        "    x = x.strip()\n",
        "\n",
        "    return x"
      ],
      "execution_count": null,
      "outputs": []
    },
    {
      "cell_type": "code",
      "metadata": {
        "id": "cPEe502kMCMW"
      },
      "source": [
        "def predict_samples(text_samples, model):\n",
        "    \n",
        "    # Text preprocessing and cleaning\n",
        "    text_samples_clean = [preprocess_corpus(text) for text in text_samples]\n",
        "    \n",
        "    # Tokenizing train data\n",
        "    samples_token = tokenizer(\n",
        "        text = text_samples_clean,\n",
        "        add_special_tokens = True,\n",
        "        max_length = max_length,\n",
        "        truncation = True,\n",
        "        padding = 'max_length', \n",
        "        return_tensors = 'tf',\n",
        "        return_token_type_ids = True,\n",
        "        return_attention_mask = True,\n",
        "        verbose = True,\n",
        "    )\n",
        "    \n",
        "    # Preparing to feed the model\n",
        "    samples = {'input_ids': samples_token['input_ids'],\n",
        "               'attention_mask': samples_token['attention_mask'],\n",
        "               'token_ids': samples_token['token_type_ids']\n",
        "              }\n",
        "    \n",
        "    # Probability predictions\n",
        "    samples_pred_proba = model.predict(samples)\n",
        "    print(samples_pred_proba)\n",
        "    for arr in samples_pred_proba:\n",
        "      max = arr[0]\n",
        "      for i in range(1, 2):\n",
        "        if arr[i] > max:\n",
        "            max = arr[i]\n",
        "    # Label prediction using threshold\n",
        "    samples_pred_labels = proba_to_labels(samples_pred_proba,max)\n",
        "    #print(samples_pred_labels)       \n",
        "    samples_pred_labels_df = pd.DataFrame(samples_pred_labels)\n",
        "    samples_pred_labels_df = samples_pred_labels_df.apply(lambda x: [GE_taxonomy[i] for i in range(len(x)) if x[i]==1], axis=1)\n",
        "    #print(samples_pred_proba)\n",
        "    #return list(samples_pred_labels_df)\n",
        "    return pd.DataFrame({\"Text\":text_samples, \"Emotions\":samples_pred_labels_df[0]})"
      ],
      "execution_count": null,
      "outputs": []
    },
    {
      "cell_type": "code",
      "metadata": {
        "colab": {
          "base_uri": "https://localhost:8080/",
          "height": 99
        },
        "id": "MkId9L1UMNFL",
        "outputId": "9f7174ff-dda3-4e21-b494-e3f0774f8e70"
      },
      "source": [
        "predict_samples([\"I love the move\"], model)"
      ],
      "execution_count": null,
      "outputs": [
        {
          "output_type": "stream",
          "text": [
            "[[7.1276183e-04 9.9928731e-01]]\n"
          ],
          "name": "stdout"
        },
        {
          "output_type": "execute_result",
          "data": {
            "text/html": [
              "<div>\n",
              "<style scoped>\n",
              "    .dataframe tbody tr th:only-of-type {\n",
              "        vertical-align: middle;\n",
              "    }\n",
              "\n",
              "    .dataframe tbody tr th {\n",
              "        vertical-align: top;\n",
              "    }\n",
              "\n",
              "    .dataframe thead th {\n",
              "        text-align: right;\n",
              "    }\n",
              "</style>\n",
              "<table border=\"1\" class=\"dataframe\">\n",
              "  <thead>\n",
              "    <tr style=\"text-align: right;\">\n",
              "      <th></th>\n",
              "      <th>Text</th>\n",
              "      <th>Emotions</th>\n",
              "    </tr>\n",
              "  </thead>\n",
              "  <tbody>\n",
              "    <tr>\n",
              "      <th>0</th>\n",
              "      <td>I love the move</td>\n",
              "      <td>label_positive</td>\n",
              "    </tr>\n",
              "  </tbody>\n",
              "</table>\n",
              "</div>"
            ],
            "text/plain": [
              "              Text        Emotions\n",
              "0  I love the move  label_positive"
            ]
          },
          "metadata": {
            "tags": []
          },
          "execution_count": 89
        }
      ]
    },
    {
      "cell_type": "code",
      "metadata": {
        "id": "3qFwTp8LJN5O"
      },
      "source": [
        ""
      ],
      "execution_count": null,
      "outputs": []
    }
  ]
}